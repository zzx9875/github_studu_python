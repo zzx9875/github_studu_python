{
 "cells": [
  {
   "cell_type": "code",
   "execution_count": 1,
   "metadata": {},
   "outputs": [
    {
     "name": "stdout",
     "output_type": "stream",
     "text": [
      "请输入球体半径：2\n",
      "球体的直径是:4.000\n",
      "球体的圆周长是:12.560\n",
      "球体的表面积是:50.240\n",
      "球体的体积是：33.493\n"
     ]
    }
   ],
   "source": [
    "def ball():\n",
    "    while True:\n",
    "        try:\n",
    "            p = 3.14\n",
    "            r = float(input(\"请输入球体半径：\"))\n",
    "            if r <= 0:\n",
    "                print(\"输入的球体半径不能小于0！\")\n",
    "            else:\n",
    "                print(\"球体的直径是:%.3f\"%(r*2))\n",
    "                print(\"球体的圆周长是:%.3f\"%(2*p*r))\n",
    "                print(\"球体的表面积是:%.3f\"%(4*p*(r**2)))\n",
    "                print(\"球体的体积是：%.3f\"%((4/3)*p*pow(r,3)))\n",
    "                break\n",
    "        except ValueError:\n",
    "            print(\"输入错误，请输入数字！\")\n",
    "\n",
    "if __name__ == \"__main__\":\n",
    "    ball()"
   ]
  },
  {
   "cell_type": "code",
   "execution_count": 1,
   "metadata": {},
   "outputs": [
    {
     "name": "stdout",
     "output_type": "stream",
     "text": [
      "hello world\n"
     ]
    }
   ],
   "source": [
    "print(\"hello world\")"
   ]
  },
  {
   "cell_type": "code",
   "execution_count": null,
   "metadata": {},
   "outputs": [],
   "source": []
  }
 ],
 "metadata": {
  "kernelspec": {
   "display_name": "Python 3",
   "language": "python",
   "name": "python3"
  },
  "language_info": {
   "codemirror_mode": {
    "name": "ipython",
    "version": 3
   },
   "file_extension": ".py",
   "mimetype": "text/x-python",
   "name": "python",
   "nbconvert_exporter": "python",
   "pygments_lexer": "ipython3",
   "version": "3.7.6"
  }
 },
 "nbformat": 4,
 "nbformat_minor": 4
}
