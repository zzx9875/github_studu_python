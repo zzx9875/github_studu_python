{
 "cells": [
  {
   "cell_type": "code",
   "execution_count": 2,
   "metadata": {},
   "outputs": [
    {
     "data": {
      "text/plain": [
       "'2.22.0'"
      ]
     },
     "execution_count": 2,
     "metadata": {},
     "output_type": "execute_result"
    }
   ],
   "source": [
    "#导入库\n",
    "import requests\n",
    "\n",
    "#查看版本\n",
    "requests.__version__"
   ]
  },
  {
   "cell_type": "code",
   "execution_count": 10,
   "metadata": {},
   "outputs": [
    {
     "data": {
      "text/plain": [
       "<Response [200]>"
      ]
     },
     "execution_count": 10,
     "metadata": {},
     "output_type": "execute_result"
    }
   ],
   "source": [
    "#参数请求\n",
    "url = 'http://www.baidu.com'\n",
    "r = requests.get(url)\n",
    "r"
   ]
  },
  {
   "cell_type": "code",
   "execution_count": 11,
   "metadata": {},
   "outputs": [
    {
     "data": {
      "text/plain": [
       "'<!DOCTYPE html>\\r\\n<!--STATUS OK--><html> <head><meta http-equiv=content-type content=text/html;charset=utf-8><meta http-equiv=X-UA-Compatible content=IE=Edge><meta content=always name=referrer><link rel=stylesheet type=text/css href=http://s1.bdstatic.com/r/www/cache/bdorz/baidu.min.css><title>ç\\x99¾åº¦ä¸\\x80ä¸\\x8bï¼\\x8cä½\\xa0å°±ç\\x9f¥é\\x81\\x93</title></head> <body link=#0000cc> <div id=wrapper> <div id=head> <div class=head_wrapper> <div class=s_form> <div class=s_form_wrapper> <div id=lg> <img hidefocus=true src=//www.baidu.com/img/bd_logo1.png width=270 height=129> </div> <form id=form name=f action=//www.baidu.com/s class=fm> <input type=hidden name=bdorz_come value=1> <input type=hidden name=ie value=utf-8> <input type=hidden name=f value=8> <input type=hidden name=rsv_bp value=1> <input type=hidden name=rsv_idx value=1> <input type=hidden name=tn value=baidu><span class=\"bg s_ipt_wr\"><input id=kw name=wd class=s_ipt value maxlength=255 autocomplete=off autofocus></span><span class=\"bg s_btn_wr\"><input type=submit id=su value=ç\\x99¾åº¦ä¸\\x80ä¸\\x8b class=\"bg s_btn\"></span> </form> </div> </div> <div id=u1> <a href=http://news.baidu.com name=tj_trnews class=mnav>æ\\x96°é\\x97»</a> <a href=http://www.hao123.com name=tj_trhao123 class=mnav>hao123</a> <a href=http://map.baidu.com name=tj_trmap class=mnav>å\\x9c°å\\x9b¾</a> <a href=http://v.baidu.com name=tj_trvideo class=mnav>è§\\x86é¢\\x91</a> <a href=http://tieba.baidu.com name=tj_trtieba class=mnav>è´´å\\x90§</a> <noscript> <a href=http://www.baidu.com/bdorz/login.gif?login&amp;tpl=mn&amp;u=http%3A%2F%2Fwww.baidu.com%2f%3fbdorz_come%3d1 name=tj_login class=lb>ç\\x99»å½\\x95</a> </noscript> <script>document.write(\\'<a href=\"http://www.baidu.com/bdorz/login.gif?login&tpl=mn&u=\\'+ encodeURIComponent(window.location.href+ (window.location.search === \"\" ? \"?\" : \"&\")+ \"bdorz_come=1\")+ \\'\" name=\"tj_login\" class=\"lb\">ç\\x99»å½\\x95</a>\\');</script> <a href=//www.baidu.com/more/ name=tj_briicon class=bri style=\"display: block;\">æ\\x9b´å¤\\x9aäº§å\\x93\\x81</a> </div> </div> </div> <div id=ftCon> <div id=ftConw> <p id=lh> <a href=http://home.baidu.com>å\\x85³äº\\x8eç\\x99¾åº¦</a> <a href=http://ir.baidu.com>About Baidu</a> </p> <p id=cp>&copy;2017&nbsp;Baidu&nbsp;<a href=http://www.baidu.com/duty/>ä½¿ç\\x94¨ç\\x99¾åº¦å\\x89\\x8då¿\\x85è¯»</a>&nbsp; <a href=http://jianyi.baidu.com/ class=cp-feedback>æ\\x84\\x8fè§\\x81å\\x8f\\x8dé¦\\x88</a>&nbsp;äº¬ICPè¯\\x81030173å\\x8f·&nbsp; <img src=//www.baidu.com/img/gs.gif> </p> </div> </div> </div> </body> </html>\\r\\n'"
      ]
     },
     "execution_count": 11,
     "metadata": {},
     "output_type": "execute_result"
    }
   ],
   "source": [
    "#调用r的属性\n",
    "r.text#可以看到是乱码的"
   ]
  },
  {
   "cell_type": "code",
   "execution_count": 12,
   "metadata": {},
   "outputs": [
    {
     "data": {
      "text/plain": [
       "'ISO-8859-1'"
      ]
     },
     "execution_count": 12,
     "metadata": {},
     "output_type": "execute_result"
    }
   ],
   "source": [
    "r.encoding"
   ]
  },
  {
   "cell_type": "code",
   "execution_count": 6,
   "metadata": {},
   "outputs": [],
   "source": [
    "r.encoding = 'utf-8'"
   ]
  },
  {
   "cell_type": "code",
   "execution_count": 13,
   "metadata": {},
   "outputs": [
    {
     "data": {
      "text/plain": [
       "'utf-8'"
      ]
     },
     "execution_count": 13,
     "metadata": {},
     "output_type": "execute_result"
    }
   ],
   "source": [
    "r.apparent_encoding"
   ]
  },
  {
   "cell_type": "code",
   "execution_count": 14,
   "metadata": {},
   "outputs": [],
   "source": [
    "r.encoding = r.apparent_encoding"
   ]
  },
  {
   "cell_type": "code",
   "execution_count": 15,
   "metadata": {},
   "outputs": [
    {
     "data": {
      "text/plain": [
       "'<!DOCTYPE html>\\r\\n<!--STATUS OK--><html> <head><meta http-equiv=content-type content=text/html;charset=utf-8><meta http-equiv=X-UA-Compatible content=IE=Edge><meta content=always name=referrer><link rel=stylesheet type=text/css href=http://s1.bdstatic.com/r/www/cache/bdorz/baidu.min.css><title>百度一下，你就知道</title></head> <body link=#0000cc> <div id=wrapper> <div id=head> <div class=head_wrapper> <div class=s_form> <div class=s_form_wrapper> <div id=lg> <img hidefocus=true src=//www.baidu.com/img/bd_logo1.png width=270 height=129> </div> <form id=form name=f action=//www.baidu.com/s class=fm> <input type=hidden name=bdorz_come value=1> <input type=hidden name=ie value=utf-8> <input type=hidden name=f value=8> <input type=hidden name=rsv_bp value=1> <input type=hidden name=rsv_idx value=1> <input type=hidden name=tn value=baidu><span class=\"bg s_ipt_wr\"><input id=kw name=wd class=s_ipt value maxlength=255 autocomplete=off autofocus></span><span class=\"bg s_btn_wr\"><input type=submit id=su value=百度一下 class=\"bg s_btn\"></span> </form> </div> </div> <div id=u1> <a href=http://news.baidu.com name=tj_trnews class=mnav>新闻</a> <a href=http://www.hao123.com name=tj_trhao123 class=mnav>hao123</a> <a href=http://map.baidu.com name=tj_trmap class=mnav>地图</a> <a href=http://v.baidu.com name=tj_trvideo class=mnav>视频</a> <a href=http://tieba.baidu.com name=tj_trtieba class=mnav>贴吧</a> <noscript> <a href=http://www.baidu.com/bdorz/login.gif?login&amp;tpl=mn&amp;u=http%3A%2F%2Fwww.baidu.com%2f%3fbdorz_come%3d1 name=tj_login class=lb>登录</a> </noscript> <script>document.write(\\'<a href=\"http://www.baidu.com/bdorz/login.gif?login&tpl=mn&u=\\'+ encodeURIComponent(window.location.href+ (window.location.search === \"\" ? \"?\" : \"&\")+ \"bdorz_come=1\")+ \\'\" name=\"tj_login\" class=\"lb\">登录</a>\\');</script> <a href=//www.baidu.com/more/ name=tj_briicon class=bri style=\"display: block;\">更多产品</a> </div> </div> </div> <div id=ftCon> <div id=ftConw> <p id=lh> <a href=http://home.baidu.com>关于百度</a> <a href=http://ir.baidu.com>About Baidu</a> </p> <p id=cp>&copy;2017&nbsp;Baidu&nbsp;<a href=http://www.baidu.com/duty/>使用百度前必读</a>&nbsp; <a href=http://jianyi.baidu.com/ class=cp-feedback>意见反馈</a>&nbsp;京ICP证030173号&nbsp; <img src=//www.baidu.com/img/gs.gif> </p> </div> </div> </div> </body> </html>\\r\\n'"
      ]
     },
     "execution_count": 15,
     "metadata": {},
     "output_type": "execute_result"
    }
   ],
   "source": [
    "r.text"
   ]
  },
  {
   "cell_type": "code",
   "execution_count": 16,
   "metadata": {
    "scrolled": true
   },
   "outputs": [
    {
     "data": {
      "text/plain": [
       "b'<!DOCTYPE html>\\r\\n<!--STATUS OK--><html> <head><meta http-equiv=content-type content=text/html;charset=utf-8><meta http-equiv=X-UA-Compatible content=IE=Edge><meta content=always name=referrer><link rel=stylesheet type=text/css href=http://s1.bdstatic.com/r/www/cache/bdorz/baidu.min.css><title>\\xe7\\x99\\xbe\\xe5\\xba\\xa6\\xe4\\xb8\\x80\\xe4\\xb8\\x8b\\xef\\xbc\\x8c\\xe4\\xbd\\xa0\\xe5\\xb0\\xb1\\xe7\\x9f\\xa5\\xe9\\x81\\x93</title></head> <body link=#0000cc> <div id=wrapper> <div id=head> <div class=head_wrapper> <div class=s_form> <div class=s_form_wrapper> <div id=lg> <img hidefocus=true src=//www.baidu.com/img/bd_logo1.png width=270 height=129> </div> <form id=form name=f action=//www.baidu.com/s class=fm> <input type=hidden name=bdorz_come value=1> <input type=hidden name=ie value=utf-8> <input type=hidden name=f value=8> <input type=hidden name=rsv_bp value=1> <input type=hidden name=rsv_idx value=1> <input type=hidden name=tn value=baidu><span class=\"bg s_ipt_wr\"><input id=kw name=wd class=s_ipt value maxlength=255 autocomplete=off autofocus></span><span class=\"bg s_btn_wr\"><input type=submit id=su value=\\xe7\\x99\\xbe\\xe5\\xba\\xa6\\xe4\\xb8\\x80\\xe4\\xb8\\x8b class=\"bg s_btn\"></span> </form> </div> </div> <div id=u1> <a href=http://news.baidu.com name=tj_trnews class=mnav>\\xe6\\x96\\xb0\\xe9\\x97\\xbb</a> <a href=http://www.hao123.com name=tj_trhao123 class=mnav>hao123</a> <a href=http://map.baidu.com name=tj_trmap class=mnav>\\xe5\\x9c\\xb0\\xe5\\x9b\\xbe</a> <a href=http://v.baidu.com name=tj_trvideo class=mnav>\\xe8\\xa7\\x86\\xe9\\xa2\\x91</a> <a href=http://tieba.baidu.com name=tj_trtieba class=mnav>\\xe8\\xb4\\xb4\\xe5\\x90\\xa7</a> <noscript> <a href=http://www.baidu.com/bdorz/login.gif?login&amp;tpl=mn&amp;u=http%3A%2F%2Fwww.baidu.com%2f%3fbdorz_come%3d1 name=tj_login class=lb>\\xe7\\x99\\xbb\\xe5\\xbd\\x95</a> </noscript> <script>document.write(\\'<a href=\"http://www.baidu.com/bdorz/login.gif?login&tpl=mn&u=\\'+ encodeURIComponent(window.location.href+ (window.location.search === \"\" ? \"?\" : \"&\")+ \"bdorz_come=1\")+ \\'\" name=\"tj_login\" class=\"lb\">\\xe7\\x99\\xbb\\xe5\\xbd\\x95</a>\\');</script> <a href=//www.baidu.com/more/ name=tj_briicon class=bri style=\"display: block;\">\\xe6\\x9b\\xb4\\xe5\\xa4\\x9a\\xe4\\xba\\xa7\\xe5\\x93\\x81</a> </div> </div> </div> <div id=ftCon> <div id=ftConw> <p id=lh> <a href=http://home.baidu.com>\\xe5\\x85\\xb3\\xe4\\xba\\x8e\\xe7\\x99\\xbe\\xe5\\xba\\xa6</a> <a href=http://ir.baidu.com>About Baidu</a> </p> <p id=cp>&copy;2017&nbsp;Baidu&nbsp;<a href=http://www.baidu.com/duty/>\\xe4\\xbd\\xbf\\xe7\\x94\\xa8\\xe7\\x99\\xbe\\xe5\\xba\\xa6\\xe5\\x89\\x8d\\xe5\\xbf\\x85\\xe8\\xaf\\xbb</a>&nbsp; <a href=http://jianyi.baidu.com/ class=cp-feedback>\\xe6\\x84\\x8f\\xe8\\xa7\\x81\\xe5\\x8f\\x8d\\xe9\\xa6\\x88</a>&nbsp;\\xe4\\xba\\xacICP\\xe8\\xaf\\x81030173\\xe5\\x8f\\xb7&nbsp; <img src=//www.baidu.com/img/gs.gif> </p> </div> </div> </div> </body> </html>\\r\\n'"
      ]
     },
     "execution_count": 16,
     "metadata": {},
     "output_type": "execute_result"
    }
   ],
   "source": [
    "r.content"
   ]
  },
  {
   "cell_type": "code",
   "execution_count": null,
   "metadata": {},
   "outputs": [],
   "source": [
    "#r.content.decode()#返回二进制文件，用于图片"
   ]
  },
  {
   "cell_type": "code",
   "execution_count": 17,
   "metadata": {},
   "outputs": [
    {
     "data": {
      "text/plain": [
       "{'Cache-Control': 'private, no-cache, no-store, proxy-revalidate, no-transform', 'Connection': 'keep-alive', 'Content-Encoding': 'gzip', 'Content-Type': 'text/html', 'Date': 'Tue, 14 Apr 2020 10:57:10 GMT', 'Last-Modified': 'Mon, 23 Jan 2017 13:27:36 GMT', 'Pragma': 'no-cache', 'Server': 'bfe/1.0.8.18', 'Set-Cookie': 'BDORZ=27315; max-age=86400; domain=.baidu.com; path=/', 'Transfer-Encoding': 'chunked'}"
      ]
     },
     "execution_count": 17,
     "metadata": {},
     "output_type": "execute_result"
    }
   ],
   "source": [
    "r.headers"
   ]
  },
  {
   "cell_type": "raw",
   "metadata": {},
   "source": []
  },
  {
   "cell_type": "code",
   "execution_count": 19,
   "metadata": {},
   "outputs": [
    {
     "data": {
      "text/plain": [
       "{'User-Agent': 'python-requests/2.22.0', 'Accept-Encoding': 'gzip, deflate', 'Accept': '*/*', 'Connection': 'keep-alive'}"
      ]
     },
     "execution_count": 19,
     "metadata": {},
     "output_type": "execute_result"
    }
   ],
   "source": [
    "r.request.headers#查看请求头，可以看到是python的请求头，这个需要改动，否则被识别了就知道你是python爬虫了"
   ]
  },
  {
   "cell_type": "code",
   "execution_count": 18,
   "metadata": {},
   "outputs": [
    {
     "data": {
      "text/plain": [
       "200"
      ]
     },
     "execution_count": 18,
     "metadata": {},
     "output_type": "execute_result"
    }
   ],
   "source": [
    "r.status_code"
   ]
  },
  {
   "cell_type": "code",
   "execution_count": 20,
   "metadata": {
    "scrolled": true
   },
   "outputs": [
    {
     "data": {
      "text/plain": [
       "<Response [418]>"
      ]
     },
     "execution_count": 20,
     "metadata": {},
     "output_type": "execute_result"
    }
   ],
   "source": [
    "#访问一下豆瓣top250\n",
    "url = 'https://movie.douban.com/top250'\n",
    "#发起请求\n",
    "r = requests.get(url)\n",
    "r"
   ]
  },
  {
   "cell_type": "code",
   "execution_count": 22,
   "metadata": {},
   "outputs": [
    {
     "data": {
      "text/plain": [
       "<Response [200]>"
      ]
     },
     "execution_count": 22,
     "metadata": {},
     "output_type": "execute_result"
    }
   ],
   "source": [
    "#添加请求头headers,利用浏览器f12找到网页的user-agent，在转换成字典格式即可\n",
    "headers = {\n",
    " \n",
    " 'User-Agent': 'Mozilla/5.0 (Macintosh; Intel Mac OS X 10_14_6) AppleWebKit/537.36 (KHTML, like Gecko) Chrome/80.0.3987.163 Safari/537.36'   \n",
    "    \n",
    "}\n",
    "#再次访问\n",
    "r = requests.get(url,headers = headers)\n",
    "r"
   ]
  },
  {
   "cell_type": "code",
   "execution_count": 23,
   "metadata": {},
   "outputs": [
    {
     "data": {
      "text/plain": [
       "'<!DOCTYPE html>\\n<html lang=\"zh-CN\" class=\"ua-mac ua-webkit\">\\n<head>\\n    <meta http-equiv=\"Content-Type\" content=\"text/html; charset=utf-8\">\\n    <meta name=\"renderer\" content=\"webkit\">\\n    <meta name=\"referrer\" content=\"always\">\\n    <meta name=\"google-site-verification\" content=\"ok0wCgT20tBBgo9_zat2iAcimtN4Ftf5ccsh092Xeyw\" />\\n    <title>\\n豆瓣电影 Top 250\\n</title>\\n    \\n    <meta name=\"baidu-site-verification\" content=\"cZdR4xxR7RxmM4zE\" />\\n    <meta http-equiv=\"Pragma\" content=\"no-cache\">\\n    <meta http-equiv=\"Expires\" content=\"Sun, 6 Mar 2005 01:00:00 GMT\">\\n    \\n    <link rel=\"apple-touch-icon\" href=\"https://img3.doubanio.com/f/movie/d59b2715fdea4968a450ee5f6c95c7d7a2030065/pics/movie/apple-touch-icon.png\">\\n    <link href=\"https://img3.doubanio.com/f/shire/3e5dfc68b0f376484c50cf08a58bbca3700911dc/css/douban.css\" rel=\"stylesheet\" type=\"text/css\">\\n    <link href=\"https://img3.doubanio.com/f/shire/ae3f5a3e3085968370b1fc63afcecb22d3284848/css/separation/_all.css\" rel=\"stylesheet\" type=\"text/css\">\\n    <link href=\"https://img3.doubanio.com/f/movie/8864d3756094f5272d3c93e30ee2e324665855b0/css/movie/base/init.css\" rel=\"stylesheet\">\\n    <script type=\"text/javascript\">var _head_start = new Date();</script>\\n    <script type=\"text/javascript\" src=\"https://img3.doubanio.com/f/movie/0495cb173e298c28593766009c7b0a953246c5b5/js/movie/lib/jquery.js\"></script>\\n    <script type=\"text/javascript\" src=\"https://img3.doubanio.com/f/shire/5ecaf46d6954d5a30bc7d99be86ae34031646e00/js/douban.js\"></script>\\n    <script type=\"text/javascript\" src=\"https://img3.doubanio.com/f/shire/0efdc63b77f895eaf85281fb0e44d435c6239a3f/js/separation/_all.js\"></script>\\n    \\n<link href=\"https://img3.doubanio.com/f/movie/2c95f768ea74284b900c04c0209b0a44f0a0de52/css/movie/top_movies.css\" rel=\"stylesheet\" type=\"text/css\" />\\n<script type=\"text/javascript\" src=\"https://img3.doubanio.com/f/shire/77323ae72a612bba8b65f845491513ff3329b1bb/js/do.js\" data-cfg-autoload=\"false\"></script>\\n<script type=\\'text/javascript\\'>\\n    Do.ready(function(){\\n            $(\"#mine-selector input[type=\\'checkbox\\']\").click(function(){\\n                var val = $(this).is(\":checked\")?$(this).val():\"\";\\n                window.location.href = \\'/top250?filter=\\' + val;\\n            })\\n    })\\n</script>\\n\\n    <style type=\"text/css\">\\n.site-nav-logo img{margin-bottom:0;}\\n</style>\\n    <style type=\"text/css\">img { max-width: 100%; }</style>\\n    <script type=\"text/javascript\"></script>\\n    <link rel=\"stylesheet\" href=\"https://img3.doubanio.com/misc/mixed_static/562925b5e3824700.css\">\\n\\n    <link rel=\"shortcut icon\" href=\"https://img3.doubanio.com/favicon.ico\" type=\"image/x-icon\">\\n</head>\\n\\n<body>\\n  \\n    <script type=\"text/javascript\">var _body_start = new Date();</script>\\n\\n    \\n    \\n\\n\\n\\n    <link href=\"//img3.doubanio.com/dae/accounts/resources/1f8d15e/shire/bundle.css\" rel=\"stylesheet\" type=\"text/css\">\\n\\n\\n\\n<div id=\"db-global-nav\" class=\"global-nav\">\\n  <div class=\"bd\">\\n    \\n<div class=\"top-nav-info\">\\n  <a href=\"https://accounts.douban.com/passport/login?source=movie\" class=\"nav-login\" rel=\"nofollow\">登录/注册</a>\\n</div>\\n\\n\\n    <div class=\"top-nav-doubanapp\">\\n  <a href=\"https://www.douban.com/doubanapp/app?channel=top-nav\" class=\"lnk-doubanapp\">下载豆瓣客户端</a>\\n  <div id=\"doubanapp-tip\">\\n    <a href=\"https://www.douban.com/doubanapp/app?channel=qipao\" class=\"tip-link\">豆瓣 <span class=\"version\">6.0</span> 全新发布</a>\\n    <a href=\"javascript: void 0;\" class=\"tip-close\">×</a>\\n  </div>\\n  <div id=\"top-nav-appintro\" class=\"more-items\">\\n    <p class=\"appintro-title\">豆瓣</p>\\n    <p class=\"qrcode\">扫码直接下载</p>\\n    <div class=\"download\">\\n      <a href=\"https://www.douban.com/doubanapp/redirect?channel=top-nav&direct_dl=1&download=iOS\">iPhone</a>\\n      <span>·</span>\\n      <a href=\"https://www.douban.com/doubanapp/redirect?channel=top-nav&direct_dl=1&download=Android\" class=\"download-android\">Android</a>\\n    </div>\\n  </div>\\n</div>\\n\\n    \\n\\n\\n<div class=\"global-nav-items\">\\n  <ul>\\n    <li class=\"\">\\n      <a href=\"https://www.douban.com\" target=\"_blank\" data-moreurl-dict=\"{&quot;from&quot;:&quot;top-nav-click-main&quot;,&quot;uid&quot;:&quot;0&quot;}\">豆瓣</a>\\n    </li>\\n    <li class=\"\">\\n      <a href=\"https://book.douban.com\" target=\"_blank\" data-moreurl-dict=\"{&quot;from&quot;:&quot;top-nav-click-book&quot;,&quot;uid&quot;:&quot;0&quot;}\">读书</a>\\n    </li>\\n    <li class=\"on\">\\n      <a href=\"https://movie.douban.com\"  data-moreurl-dict=\"{&quot;from&quot;:&quot;top-nav-click-movie&quot;,&quot;uid&quot;:&quot;0&quot;}\">电影</a>\\n    </li>\\n    <li class=\"\">\\n      <a href=\"https://music.douban.com\" target=\"_blank\" data-moreurl-dict=\"{&quot;from&quot;:&quot;top-nav-click-music&quot;,&quot;uid&quot;:&quot;0&quot;}\">音乐</a>\\n    </li>\\n    <li class=\"\">\\n      <a href=\"https://www.douban.com/location\" target=\"_blank\" data-moreurl-dict=\"{&quot;from&quot;:&quot;top-nav-click-location&quot;,&quot;uid&quot;:&quot;0&quot;}\">同城</a>\\n    </li>\\n    <li class=\"\">\\n      <a href=\"https://www.douban.com/group\" target=\"_blank\" data-moreurl-dict=\"{&quot;from&quot;:&quot;top-nav-click-group&quot;,&quot;uid&quot;:&quot;0&quot;}\">小组</a>\\n    </li>\\n    <li class=\"\">\\n      <a href=\"https://read.douban.com&#47;?dcs=top-nav&amp;dcm=douban\" target=\"_blank\" data-moreurl-dict=\"{&quot;from&quot;:&quot;top-nav-click-read&quot;,&quot;uid&quot;:&quot;0&quot;}\">阅读</a>\\n    </li>\\n    <li class=\"\">\\n      <a href=\"https://douban.fm&#47;?from_=shire_top_nav\" target=\"_blank\" data-moreurl-dict=\"{&quot;from&quot;:&quot;top-nav-click-fm&quot;,&quot;uid&quot;:&quot;0&quot;}\">FM</a>\\n    </li>\\n    <li class=\"\">\\n      <a href=\"https://time.douban.com&#47;?dt_time_source=douban-web_top_nav\" target=\"_blank\" data-moreurl-dict=\"{&quot;from&quot;:&quot;top-nav-click-time&quot;,&quot;uid&quot;:&quot;0&quot;}\">时间</a>\\n    </li>\\n    <li class=\"\">\\n      <a href=\"https://market.douban.com&#47;?utm_campaign=douban_top_nav&amp;utm_source=douban&amp;utm_medium=pc_web\" target=\"_blank\" data-moreurl-dict=\"{&quot;from&quot;:&quot;top-nav-click-market&quot;,&quot;uid&quot;:&quot;0&quot;}\">豆品</a>\\n    </li>\\n    <li>\\n      <a href=\"#more\" class=\"bn-more\"><span>更多</span></a>\\n      <div class=\"more-items\">\\n        <table cellpadding=\"0\" cellspacing=\"0\">\\n          <tbody>\\n            <tr>\\n              <td>\\n                <a href=\"https://ypy.douban.com\" target=\"_blank\" data-moreurl-dict=\"{&quot;from&quot;:&quot;top-nav-click-ypy&quot;,&quot;uid&quot;:&quot;0&quot;}\">豆瓣摄影</a>\\n              </td>\\n            </tr>\\n          </tbody>\\n        </table>\\n      </div>\\n    </li>\\n  </ul>\\n</div>\\n\\n  </div>\\n</div>\\n<script>\\n  ;window._GLOBAL_NAV = {\\n    DOUBAN_URL: \"https://www.douban.com\",\\n    N_NEW_NOTIS: 0,\\n    N_NEW_DOUMAIL: 0\\n  };\\n</script>\\n\\n\\n\\n    <script src=\"//img3.doubanio.com/dae/accounts/resources/1f8d15e/shire/bundle.js\" defer=\"defer\"></script>\\n\\n\\n\\n\\n    \\n\\n\\n\\n    <link href=\"//img3.doubanio.com/dae/accounts/resources/1f8d15e/movie/bundle.css\" rel=\"stylesheet\" type=\"text/css\">\\n\\n\\n\\n\\n<div id=\"db-nav-movie\" class=\"nav\">\\n  <div class=\"nav-wrap\">\\n  <div class=\"nav-primary\">\\n    <div class=\"nav-logo\">\\n      <a href=\"https:&#47;&#47;movie.douban.com\">豆瓣电影</a>\\n    </div>\\n    <div class=\"nav-search\">\\n      <form action=\"https:&#47;&#47;search.douban.com&#47;movie/subject_search\" method=\"get\">\\n        <fieldset>\\n          <legend>搜索：</legend>\\n          <label for=\"inp-query\">\\n          </label>\\n          <div class=\"inp\"><input id=\"inp-query\" name=\"search_text\" size=\"22\" maxlength=\"60\" placeholder=\"搜索电影、电视剧、综艺、影人\" value=\"\"></div>\\n          <div class=\"inp-btn\"><input type=\"submit\" value=\"搜索\"></div>\\n          <input type=\"hidden\" name=\"cat\" value=\"1002\" />\\n        </fieldset>\\n      </form>\\n    </div>\\n  </div>\\n  </div>\\n  <div class=\"nav-secondary\">\\n    \\n\\n<div class=\"nav-items\">\\n  <ul>\\n    <li    ><a href=\"https://movie.douban.com/cinema/nowplaying/\"\\n     >影讯&购票</a>\\n    </li>\\n    <li    ><a href=\"https://movie.douban.com/explore\"\\n     >选电影</a>\\n    </li>\\n    <li    ><a href=\"https://movie.douban.com/tv/\"\\n     >电视剧</a>\\n    </li>\\n    <li    ><a href=\"https://movie.douban.com/chart\"\\n     >排行榜</a>\\n    </li>\\n    <li    ><a href=\"https://movie.douban.com/tag/\"\\n     >分类</a>\\n    </li>\\n    <li    ><a href=\"https://movie.douban.com/review/best/\"\\n     >影评</a>\\n    </li>\\n    <li    ><a href=\"https://movie.douban.com/annual/2019?source=navigation\"\\n     >2019年度榜单</a>\\n    </li>\\n    <li    ><a href=\"https://m.douban.com/standbyme/annual2019?source=navigation\"\\n            target=\"_blank\"\\n     >2019书影音报告</a>\\n    </li>\\n  </ul>\\n</div>\\n\\n    <a href=\"https://movie.douban.com/annual/2019?source=movie_navigation\" class=\"movieannual\"></a>\\n  </div>\\n</div>\\n\\n<script id=\"suggResult\" type=\"text/x-jquery-tmpl\">\\n  <li data-link=\"{{= url}}\">\\n            <a href=\"{{= url}}\" onclick=\"moreurl(this, {from:\\'movie_search_sugg\\', query:\\'{{= keyword }}\\', subject_id:\\'{{= id}}\\', i: \\'{{= index}}\\', type: \\'{{= type}}\\'})\">\\n            <img src=\"{{= img}}\" width=\"40\" />\\n            <p>\\n                <em>{{= title}}</em>\\n                {{if year}}\\n                    <span>{{= year}}</span>\\n                {{/if}}\\n                {{if sub_title}}\\n                    <br /><span>{{= sub_title}}</span>\\n                {{/if}}\\n                {{if address}}\\n                    <br /><span>{{= address}}</span>\\n                {{/if}}\\n                {{if episode}}\\n                    {{if episode==\"unknow\"}}\\n                        <br /><span>集数未知</span>\\n                    {{else}}\\n                        <br /><span>共{{= episode}}集</span>\\n                    {{/if}}\\n                {{/if}}\\n            </p>\\n        </a>\\n        </li>\\n  </script>\\n\\n\\n\\n\\n    <script src=\"//img3.doubanio.com/dae/accounts/resources/1f8d15e/movie/bundle.js\" defer=\"defer\"></script>\\n\\n\\n\\n\\n\\n    \\n    <div id=\"wrapper\">\\n        \\n\\n        \\n    <div id=\"content\">\\n        \\n    <h1>豆瓣电影 Top 250</h1>\\n\\n        <div class=\"grid-16-8 clearfix\">\\n            \\n            \\n            <div class=\"article\">\\n                \\n\\n\\n\\n\\n\\n\\n\\n<div class=\"opt mod\">\\n    <div class=\"tabs\">\\n      \\n    \\n\\n    </div>\\n    <span id=\"mine-selector\">\\n      <input type=\"checkbox\"  value=\"unwatched\">我没看过的\\n    </span>\\n</div>\\n\\n\\n\\n<ol class=\"grid_view\">\\n        <li>\\n            <div class=\"item\">\\n                <div class=\"pic\">\\n                    <em class=\"\">1</em>\\n                    <a href=\"https://movie.douban.com/subject/1292052/\">\\n                        <img width=\"100\" alt=\"肖申克的救赎\" src=\"https://img3.doubanio.com/view/photo/s_ratio_poster/public/p480747492.jpg\" class=\"\">\\n                    </a>\\n                </div>\\n                <div class=\"info\">\\n                    <div class=\"hd\">\\n                        <a href=\"https://movie.douban.com/subject/1292052/\" class=\"\">\\n                            <span class=\"title\">肖申克的救赎</span>\\n                                    <span class=\"title\">&nbsp;/&nbsp;The Shawshank Redemption</span>\\n                                <span class=\"other\">&nbsp;/&nbsp;月黑高飞(港)  /  刺激1995(台)</span>\\n                        </a>\\n\\n\\n                            <span class=\"playable\">[可播放]</span>\\n                    </div>\\n                    <div class=\"bd\">\\n                        <p class=\"\">\\n                            导演: 弗兰克·德拉邦特 Frank Darabont&nbsp;&nbsp;&nbsp;主演: 蒂姆·罗宾斯 Tim Robbins /...<br>\\n                            1994&nbsp;/&nbsp;美国&nbsp;/&nbsp;犯罪 剧情\\n                        </p>\\n\\n                        \\n                        <div class=\"star\">\\n                                <span class=\"rating5-t\"></span>\\n                                <span class=\"rating_num\" property=\"v:average\">9.7</span>\\n                                <span property=\"v:best\" content=\"10.0\"></span>\\n                                <span>1977837人评价</span>\\n                        </div>\\n\\n                            <p class=\"quote\">\\n                                <span class=\"inq\">希望让人自由。</span>\\n                            </p>\\n                    </div>\\n                </div>\\n            </div>\\n        </li>\\n        <li>\\n            <div class=\"item\">\\n                <div class=\"pic\">\\n                    <em class=\"\">2</em>\\n                    <a href=\"https://movie.douban.com/subject/1291546/\">\\n                        <img width=\"100\" alt=\"霸王别姬\" src=\"https://img3.doubanio.com/view/photo/s_ratio_poster/public/p2561716440.jpg\" class=\"\">\\n                    </a>\\n                </div>\\n                <div class=\"info\">\\n                    <div class=\"hd\">\\n                        <a href=\"https://movie.douban.com/subject/1291546/\" class=\"\">\\n                            <span class=\"title\">霸王别姬</span>\\n                                <span class=\"other\">&nbsp;/&nbsp;再见，我的妾  /  Farewell My Concubine</span>\\n                        </a>\\n\\n\\n                            <span class=\"playable\">[可播放]</span>\\n                    </div>\\n                    <div class=\"bd\">\\n                        <p class=\"\">\\n                            导演: 陈凯歌 Kaige Chen&nbsp;&nbsp;&nbsp;主演: 张国荣 Leslie Cheung / 张丰毅 Fengyi Zha...<br>\\n                            1993&nbsp;/&nbsp;中国大陆 中国香港&nbsp;/&nbsp;剧情 爱情 同性\\n                        </p>\\n\\n                        \\n                        <div class=\"star\">\\n                                <span class=\"rating5-t\"></span>\\n                                <span class=\"rating_num\" property=\"v:average\">9.6</span>\\n                                <span property=\"v:best\" content=\"10.0\"></span>\\n                                <span>1463271人评价</span>\\n                        </div>\\n\\n                            <p class=\"quote\">\\n                                <span class=\"inq\">风华绝代。</span>\\n                            </p>\\n                    </div>\\n                </div>\\n            </div>\\n        </li>\\n        <li>\\n            <div class=\"item\">\\n                <div class=\"pic\">\\n                    <em class=\"\">3</em>\\n                    <a href=\"https://movie.douban.com/subject/1292720/\">\\n                        <img width=\"100\" alt=\"阿甘正传\" src=\"https://img9.doubanio.com/view/photo/s_ratio_poster/public/p1484728154.jpg\" class=\"\">\\n                    </a>\\n                </div>\\n                <div class=\"info\">\\n                    <div class=\"hd\">\\n                        <a href=\"https://movie.douban.com/subject/1292720/\" class=\"\">\\n                            <span class=\"title\">阿甘正传</span>\\n                                    <span class=\"title\">&nbsp;/&nbsp;Forrest Gump</span>\\n                                <span class=\"other\">&nbsp;/&nbsp;福雷斯特·冈普</span>\\n                        </a>\\n\\n\\n                            <span class=\"playable\">[可播放]</span>\\n                    </div>\\n                    <div class=\"bd\">\\n                        <p class=\"\">\\n                            导演: 罗伯特·泽米吉斯 Robert Zemeckis&nbsp;&nbsp;&nbsp;主演: 汤姆·汉克斯 Tom Hanks / ...<br>\\n                            1994&nbsp;/&nbsp;美国&nbsp;/&nbsp;剧情 爱情\\n                        </p>\\n\\n                        \\n                        <div class=\"star\">\\n                                <span class=\"rating5-t\"></span>\\n                                <span class=\"rating_num\" property=\"v:average\">9.5</span>\\n                                <span property=\"v:best\" content=\"10.0\"></span>\\n                                <span>1499713人评价</span>\\n                        </div>\\n\\n                            <p class=\"quote\">\\n                                <span class=\"inq\">一部美国近现代史。</span>\\n                            </p>\\n                    </div>\\n                </div>\\n            </div>\\n        </li>\\n        <li>\\n            <div class=\"item\">\\n                <div class=\"pic\">\\n                    <em class=\"\">4</em>\\n                    <a href=\"https://movie.douban.com/subject/1295644/\">\\n                        <img width=\"100\" alt=\"这个杀手不太冷\" src=\"https://img3.doubanio.com/view/photo/s_ratio_poster/public/p511118051.jpg\" class=\"\">\\n                    </a>\\n                </div>\\n                <div class=\"info\">\\n                    <div class=\"hd\">\\n                        <a href=\"https://movie.douban.com/subject/1295644/\" class=\"\">\\n                            <span class=\"title\">这个杀手不太冷</span>\\n                                    <span class=\"title\">&nbsp;/&nbsp;Léon</span>\\n                                <span class=\"other\">&nbsp;/&nbsp;杀手莱昂  /  终极追杀令(台)</span>\\n                        </a>\\n\\n\\n                    </div>\\n                    <div class=\"bd\">\\n                        <p class=\"\">\\n                            导演: 吕克·贝松 Luc Besson&nbsp;&nbsp;&nbsp;主演: 让·雷诺 Jean Reno / 娜塔莉·波特曼 ...<br>\\n                            1994&nbsp;/&nbsp;法国&nbsp;/&nbsp;剧情 动作 犯罪\\n                        </p>\\n\\n                        \\n                        <div class=\"star\">\\n                                <span class=\"rating45-t\"></span>\\n                                <span class=\"rating_num\" property=\"v:average\">9.4</span>\\n                                <span property=\"v:best\" content=\"10.0\"></span>\\n                                <span>1693599人评价</span>\\n                        </div>\\n\\n                            <p class=\"quote\">\\n                                <span class=\"inq\">怪蜀黍和小萝莉不得不说的故事。</span>\\n                            </p>\\n                    </div>\\n                </div>\\n            </div>\\n        </li>\\n        <li>\\n            <div class=\"item\">\\n                <div class=\"pic\">\\n                    <em class=\"\">5</em>\\n                    <a href=\"https://movie.douban.com/subject/1292063/\">\\n                        <img width=\"100\" alt=\"美丽人生\" src=\"https://img3.doubanio.com/view/photo/s_ratio_poster/public/p2578474613.jpg\" class=\"\">\\n                    </a>\\n                </div>\\n                <div class=\"info\">\\n                    <div class=\"hd\">\\n                        <a href=\"https://movie.douban.com/subject/1292063/\" class=\"\">\\n                            <span class=\"title\">美丽人生</span>\\n                                    <span class=\"title\">&nbsp;/&nbsp;La vita è bella</span>\\n                                <span class=\"other\">&nbsp;/&nbsp;一个快乐的传说(港)  /  Life Is Beautiful</span>\\n                        </a>\\n\\n\\n                            <span class=\"playable\">[可播放]</span>\\n                    </div>\\n                    <div class=\"bd\">\\n                        <p class=\"\">\\n                            导演: 罗伯托·贝尼尼 Roberto Benigni&nbsp;&nbsp;&nbsp;主演: 罗伯托·贝尼尼 Roberto Beni...<br>\\n                            1997&nbsp;/&nbsp;意大利&nbsp;/&nbsp;剧情 喜剧 爱情 战争\\n                        </p>\\n\\n                        \\n                        <div class=\"star\">\\n                                <span class=\"rating5-t\"></span>\\n                                <span class=\"rating_num\" property=\"v:average\">9.5</span>\\n                                <span property=\"v:best\" content=\"10.0\"></span>\\n                                <span>946161人评价</span>\\n                        </div>\\n\\n                            <p class=\"quote\">\\n                                <span class=\"inq\">最美的谎言。</span>\\n                            </p>\\n                    </div>\\n                </div>\\n            </div>\\n        </li>\\n        <li>\\n            <div class=\"item\">\\n                <div class=\"pic\">\\n                    <em class=\"\">6</em>\\n                    <a href=\"https://movie.douban.com/subject/1292722/\">\\n                        <img width=\"100\" alt=\"泰坦尼克号\" src=\"https://img9.doubanio.com/view/photo/s_ratio_poster/public/p457760035.jpg\" class=\"\">\\n                    </a>\\n                </div>\\n                <div class=\"info\">\\n                    <div class=\"hd\">\\n                        <a href=\"https://movie.douban.com/subject/1292722/\" class=\"\">\\n                            <span class=\"title\">泰坦尼克号</span>\\n                                    <span class=\"title\">&nbsp;/&nbsp;Titanic</span>\\n                                <span class=\"other\">&nbsp;/&nbsp;铁达尼号(港 / 台)</span>\\n                        </a>\\n\\n\\n                            <span class=\"playable\">[可播放]</span>\\n                    </div>\\n                    <div class=\"bd\">\\n                        <p class=\"\">\\n                            导演: 詹姆斯·卡梅隆 James Cameron&nbsp;&nbsp;&nbsp;主演: 莱昂纳多·迪卡普里奥 Leonardo...<br>\\n                            1997&nbsp;/&nbsp;美国&nbsp;/&nbsp;剧情 爱情 灾难\\n                        </p>\\n\\n                        \\n                        <div class=\"star\">\\n                                <span class=\"rating45-t\"></span>\\n                                <span class=\"rating_num\" property=\"v:average\">9.4</span>\\n                                <span property=\"v:best\" content=\"10.0\"></span>\\n                                <span>1447883人评价</span>\\n                        </div>\\n\\n                            <p class=\"quote\">\\n                                <span class=\"inq\">失去的才是永恒的。 </span>\\n                            </p>\\n                    </div>\\n                </div>\\n            </div>\\n        </li>\\n        <li>\\n            <div class=\"item\">\\n                <div class=\"pic\">\\n                    <em class=\"\">7</em>\\n                    <a href=\"https://movie.douban.com/subject/1291561/\">\\n                        <img width=\"100\" alt=\"千与千寻\" src=\"https://img1.doubanio.com/view/photo/s_ratio_poster/public/p2557573348.jpg\" class=\"\">\\n                    </a>\\n                </div>\\n                <div class=\"info\">\\n                    <div class=\"hd\">\\n                        <a href=\"https://movie.douban.com/subject/1291561/\" class=\"\">\\n                            <span class=\"title\">千与千寻</span>\\n                                    <span class=\"title\">&nbsp;/&nbsp;千と千尋の神隠し</span>\\n                                <span class=\"other\">&nbsp;/&nbsp;神隐少女(台)  /  千与千寻的神隐</span>\\n                        </a>\\n\\n\\n                            <span class=\"playable\">[可播放]</span>\\n                    </div>\\n                    <div class=\"bd\">\\n                        <p class=\"\">\\n                            导演: 宫崎骏 Hayao Miyazaki&nbsp;&nbsp;&nbsp;主演: 柊瑠美 Rumi Hîragi / 入野自由 Miy...<br>\\n                            2001&nbsp;/&nbsp;日本&nbsp;/&nbsp;剧情 动画 奇幻\\n                        </p>\\n\\n                        \\n                        <div class=\"star\">\\n                                <span class=\"rating45-t\"></span>\\n                                <span class=\"rating_num\" property=\"v:average\">9.4</span>\\n                                <span property=\"v:best\" content=\"10.0\"></span>\\n                                <span>1548404人评价</span>\\n                        </div>\\n\\n                            <p class=\"quote\">\\n                                <span class=\"inq\">最好的宫崎骏，最好的久石让。 </span>\\n                            </p>\\n                    </div>\\n                </div>\\n            </div>\\n        </li>\\n        <li>\\n            <div class=\"item\">\\n                <div class=\"pic\">\\n                    <em class=\"\">8</em>\\n                    <a href=\"https://movie.douban.com/subject/1295124/\">\\n                        <img width=\"100\" alt=\"辛德勒的名单\" src=\"https://img3.doubanio.com/view/photo/s_ratio_poster/public/p492406163.jpg\" class=\"\">\\n                    </a>\\n                </div>\\n                <div class=\"info\">\\n                    <div class=\"hd\">\\n                        <a href=\"https://movie.douban.com/subject/1295124/\" class=\"\">\\n                            <span class=\"title\">辛德勒的名单</span>\\n                                    <span class=\"title\">&nbsp;/&nbsp;Schindler&#39;s List</span>\\n                                <span class=\"other\">&nbsp;/&nbsp;舒特拉的名单(港)  /  辛德勒名单</span>\\n                        </a>\\n\\n\\n                            <span class=\"playable\">[可播放]</span>\\n                    </div>\\n                    <div class=\"bd\">\\n                        <p class=\"\">\\n                            导演: 史蒂文·斯皮尔伯格 Steven Spielberg&nbsp;&nbsp;&nbsp;主演: 连姆·尼森 Liam Neeson...<br>\\n                            1993&nbsp;/&nbsp;美国&nbsp;/&nbsp;剧情 历史 战争\\n                        </p>\\n\\n                        \\n                        <div class=\"star\">\\n                                <span class=\"rating5-t\"></span>\\n                                <span class=\"rating_num\" property=\"v:average\">9.5</span>\\n                                <span property=\"v:best\" content=\"10.0\"></span>\\n                                <span>765160人评价</span>\\n                        </div>\\n\\n                            <p class=\"quote\">\\n                                <span class=\"inq\">拯救一个人，就是拯救整个世界。</span>\\n                            </p>\\n                    </div>\\n                </div>\\n            </div>\\n        </li>\\n        <li>\\n            <div class=\"item\">\\n                <div class=\"pic\">\\n                    <em class=\"\">9</em>\\n                    <a href=\"https://movie.douban.com/subject/3541415/\">\\n                        <img width=\"100\" alt=\"盗梦空间\" src=\"https://img9.doubanio.com/view/photo/s_ratio_poster/public/p513344864.jpg\" class=\"\">\\n                    </a>\\n                </div>\\n                <div class=\"info\">\\n                    <div class=\"hd\">\\n                        <a href=\"https://movie.douban.com/subject/3541415/\" class=\"\">\\n                            <span class=\"title\">盗梦空间</span>\\n                                    <span class=\"title\">&nbsp;/&nbsp;Inception</span>\\n                                <span class=\"other\">&nbsp;/&nbsp;潜行凶间(港)  /  全面启动(台)</span>\\n                        </a>\\n\\n\\n                            <span class=\"playable\">[可播放]</span>\\n                    </div>\\n                    <div class=\"bd\">\\n                        <p class=\"\">\\n                            导演: 克里斯托弗·诺兰 Christopher Nolan&nbsp;&nbsp;&nbsp;主演: 莱昂纳多·迪卡普里奥 Le...<br>\\n                            2010&nbsp;/&nbsp;美国 英国&nbsp;/&nbsp;剧情 科幻 悬疑 冒险\\n                        </p>\\n\\n                        \\n                        <div class=\"star\">\\n                                <span class=\"rating45-t\"></span>\\n                                <span class=\"rating_num\" property=\"v:average\">9.3</span>\\n                                <span property=\"v:best\" content=\"10.0\"></span>\\n                                <span>1437782人评价</span>\\n                        </div>\\n\\n                            <p class=\"quote\">\\n                                <span class=\"inq\">诺兰给了我们一场无法盗取的梦。</span>\\n                            </p>\\n                    </div>\\n                </div>\\n            </div>\\n        </li>\\n        <li>\\n            <div class=\"item\">\\n                <div class=\"pic\">\\n                    <em class=\"\">10</em>\\n                    <a href=\"https://movie.douban.com/subject/3011091/\">\\n                        <img width=\"100\" alt=\"忠犬八公的故事\" src=\"https://img9.doubanio.com/view/photo/s_ratio_poster/public/p524964016.jpg\" class=\"\">\\n                    </a>\\n                </div>\\n                <div class=\"info\">\\n                    <div class=\"hd\">\\n                        <a href=\"https://movie.douban.com/subject/3011091/\" class=\"\">\\n                            <span class=\"title\">忠犬八公的故事</span>\\n                                    <span class=\"title\">&nbsp;/&nbsp;Hachi: A Dog&#39;s Tale</span>\\n                                <span class=\"other\">&nbsp;/&nbsp;忠犬小八(台)  /  秋田犬八千(港)</span>\\n                        </a>\\n\\n\\n                            <span class=\"playable\">[可播放]</span>\\n                    </div>\\n                    <div class=\"bd\">\\n                        <p class=\"\">\\n                            导演: 莱塞·霍尔斯道姆 Lasse Hallström&nbsp;&nbsp;&nbsp;主演: 理查·基尔 Richard Ger...<br>\\n                            2009&nbsp;/&nbsp;美国 英国&nbsp;/&nbsp;剧情\\n                        </p>\\n\\n                        \\n                        <div class=\"star\">\\n                                <span class=\"rating45-t\"></span>\\n                                <span class=\"rating_num\" property=\"v:average\">9.4</span>\\n                                <span property=\"v:best\" content=\"10.0\"></span>\\n                                <span>994921人评价</span>\\n                        </div>\\n\\n                            <p class=\"quote\">\\n                                <span class=\"inq\">永远都不能忘记你所爱的人。</span>\\n                            </p>\\n                    </div>\\n                </div>\\n            </div>\\n        </li>\\n        <li>\\n            <div class=\"item\">\\n                <div class=\"pic\">\\n                    <em class=\"\">11</em>\\n                    <a href=\"https://movie.douban.com/subject/1292001/\">\\n                        <img width=\"100\" alt=\"海上钢琴师\" src=\"https://img9.doubanio.com/view/photo/s_ratio_poster/public/p2574551676.jpg\" class=\"\">\\n                    </a>\\n                </div>\\n                <div class=\"info\">\\n                    <div class=\"hd\">\\n                        <a href=\"https://movie.douban.com/subject/1292001/\" class=\"\">\\n                            <span class=\"title\">海上钢琴师</span>\\n                                    <span class=\"title\">&nbsp;/&nbsp;La leggenda del pianista sull&#39;oceano</span>\\n                                <span class=\"other\">&nbsp;/&nbsp;声光伴我飞(港)  /  一九零零的传奇</span>\\n                        </a>\\n\\n\\n                            <span class=\"playable\">[可播放]</span>\\n                    </div>\\n                    <div class=\"bd\">\\n                        <p class=\"\">\\n                            导演: 朱塞佩·托纳多雷 Giuseppe Tornatore&nbsp;&nbsp;&nbsp;主演: 蒂姆·罗斯 Tim Roth / ...<br>\\n                            1998&nbsp;/&nbsp;意大利&nbsp;/&nbsp;剧情 音乐\\n                        </p>\\n\\n                        \\n                        <div class=\"star\">\\n                                <span class=\"rating45-t\"></span>\\n                                <span class=\"rating_num\" property=\"v:average\">9.3</span>\\n                                <span property=\"v:best\" content=\"10.0\"></span>\\n                                <span>1197451人评价</span>\\n                        </div>\\n\\n                            <p class=\"quote\">\\n                                <span class=\"inq\">每个人都要走一条自己坚定了的路，就算是粉身碎骨。 </span>\\n                            </p>\\n                    </div>\\n                </div>\\n            </div>\\n        </li>\\n        <li>\\n            <div class=\"item\">\\n                <div class=\"pic\">\\n                    <em class=\"\">12</em>\\n                    <a href=\"https://movie.douban.com/subject/1292064/\">\\n                        <img width=\"100\" alt=\"楚门的世界\" src=\"https://img3.doubanio.com/view/photo/s_ratio_poster/public/p479682972.jpg\" class=\"\">\\n                    </a>\\n                </div>\\n                <div class=\"info\">\\n                    <div class=\"hd\">\\n                        <a href=\"https://movie.douban.com/subject/1292064/\" class=\"\">\\n                            <span class=\"title\">楚门的世界</span>\\n                                    <span class=\"title\">&nbsp;/&nbsp;The Truman Show</span>\\n                                <span class=\"other\">&nbsp;/&nbsp;真人Show(港)  /  真人戏</span>\\n                        </a>\\n\\n\\n                            <span class=\"playable\">[可播放]</span>\\n                    </div>\\n                    <div class=\"bd\">\\n                        <p class=\"\">\\n                            导演: 彼得·威尔 Peter Weir&nbsp;&nbsp;&nbsp;主演: 金·凯瑞 Jim Carrey / 劳拉·琳妮 Lau...<br>\\n                            1998&nbsp;/&nbsp;美国&nbsp;/&nbsp;剧情 科幻\\n                        </p>\\n\\n                        \\n                        <div class=\"star\">\\n                                <span class=\"rating45-t\"></span>\\n                                <span class=\"rating_num\" property=\"v:average\">9.3</span>\\n                                <span property=\"v:best\" content=\"10.0\"></span>\\n                                <span>1061506人评价</span>\\n                        </div>\\n\\n                            <p class=\"quote\">\\n                                <span class=\"inq\">如果再也不能见到你，祝你早安，午安，晚安。</span>\\n                            </p>\\n                    </div>\\n                </div>\\n            </div>\\n        </li>\\n        <li>\\n            <div class=\"item\">\\n                <div class=\"pic\">\\n                    <em class=\"\">13</em>\\n                    <a href=\"https://movie.douban.com/subject/3793023/\">\\n                        <img width=\"100\" alt=\"三傻大闹宝莱坞\" src=\"https://img3.doubanio.com/view/photo/s_ratio_poster/public/p579729551.jpg\" class=\"\">\\n                    </a>\\n                </div>\\n                <div class=\"info\">\\n                    <div class=\"hd\">\\n                        <a href=\"https://movie.douban.com/subject/3793023/\" class=\"\">\\n                            <span class=\"title\">三傻大闹宝莱坞</span>\\n                                    <span class=\"title\">&nbsp;/&nbsp;3 Idiots</span>\\n                                <span class=\"other\">&nbsp;/&nbsp;三个傻瓜(台)  /  作死不离3兄弟(港)</span>\\n                        </a>\\n\\n\\n                            <span class=\"playable\">[可播放]</span>\\n                    </div>\\n                    <div class=\"bd\">\\n                        <p class=\"\">\\n                            导演: 拉库马·希拉尼 Rajkumar Hirani&nbsp;&nbsp;&nbsp;主演: 阿米尔·汗 Aamir Khan / 卡...<br>\\n                            2009&nbsp;/&nbsp;印度&nbsp;/&nbsp;剧情 喜剧 爱情 歌舞\\n                        </p>\\n\\n                        \\n                        <div class=\"star\">\\n                                <span class=\"rating45-t\"></span>\\n                                <span class=\"rating_num\" property=\"v:average\">9.2</span>\\n                                <span property=\"v:best\" content=\"10.0\"></span>\\n                                <span>1328507人评价</span>\\n                        </div>\\n\\n                            <p class=\"quote\">\\n                                <span class=\"inq\">英俊版憨豆，高情商版谢耳朵。</span>\\n                            </p>\\n                    </div>\\n                </div>\\n            </div>\\n        </li>\\n        <li>\\n            <div class=\"item\">\\n                <div class=\"pic\">\\n                    <em class=\"\">14</em>\\n                    <a href=\"https://movie.douban.com/subject/2131459/\">\\n                        <img width=\"100\" alt=\"机器人总动员\" src=\"https://img3.doubanio.com/view/photo/s_ratio_poster/public/p1461851991.jpg\" class=\"\">\\n                    </a>\\n                </div>\\n                <div class=\"info\">\\n                    <div class=\"hd\">\\n                        <a href=\"https://movie.douban.com/subject/2131459/\" class=\"\">\\n                            <span class=\"title\">机器人总动员</span>\\n                                    <span class=\"title\">&nbsp;/&nbsp;WALL·E</span>\\n                                <span class=\"other\">&nbsp;/&nbsp;瓦力(台)  /  太空奇兵·威E(港)</span>\\n                        </a>\\n\\n\\n                            <span class=\"playable\">[可播放]</span>\\n                    </div>\\n                    <div class=\"bd\">\\n                        <p class=\"\">\\n                            导演: 安德鲁·斯坦顿 Andrew Stanton&nbsp;&nbsp;&nbsp;主演: 本·贝尔特 Ben Burtt / 艾丽...<br>\\n                            2008&nbsp;/&nbsp;美国&nbsp;/&nbsp;科幻 动画 冒险\\n                        </p>\\n\\n                        \\n                        <div class=\"star\">\\n                                <span class=\"rating45-t\"></span>\\n                                <span class=\"rating_num\" property=\"v:average\">9.3</span>\\n                                <span property=\"v:best\" content=\"10.0\"></span>\\n                                <span>948350人评价</span>\\n                        </div>\\n\\n                            <p class=\"quote\">\\n                                <span class=\"inq\">小瓦力，大人生。</span>\\n                            </p>\\n                    </div>\\n                </div>\\n            </div>\\n        </li>\\n        <li>\\n            <div class=\"item\">\\n                <div class=\"pic\">\\n                    <em class=\"\">15</em>\\n                    <a href=\"https://movie.douban.com/subject/1291549/\">\\n                        <img width=\"100\" alt=\"放牛班的春天\" src=\"https://img3.doubanio.com/view/photo/s_ratio_poster/public/p1910824951.jpg\" class=\"\">\\n                    </a>\\n                </div>\\n                <div class=\"info\">\\n                    <div class=\"hd\">\\n                        <a href=\"https://movie.douban.com/subject/1291549/\" class=\"\">\\n                            <span class=\"title\">放牛班的春天</span>\\n                                    <span class=\"title\">&nbsp;/&nbsp;Les choristes</span>\\n                                <span class=\"other\">&nbsp;/&nbsp;歌声伴我心(港)  /  唱诗班男孩</span>\\n                        </a>\\n\\n\\n                            <span class=\"playable\">[可播放]</span>\\n                    </div>\\n                    <div class=\"bd\">\\n                        <p class=\"\">\\n                            导演: 克里斯托夫·巴拉蒂 Christophe Barratier&nbsp;&nbsp;&nbsp;主演: 热拉尔·朱尼奥 Gé...<br>\\n                            2004&nbsp;/&nbsp;法国 瑞士 德国&nbsp;/&nbsp;剧情 音乐\\n                        </p>\\n\\n                        \\n                        <div class=\"star\">\\n                                <span class=\"rating45-t\"></span>\\n                                <span class=\"rating_num\" property=\"v:average\">9.3</span>\\n                                <span property=\"v:best\" content=\"10.0\"></span>\\n                                <span>924693人评价</span>\\n                        </div>\\n\\n                            <p class=\"quote\">\\n                                <span class=\"inq\">天籁一般的童声，是最接近上帝的存在。 </span>\\n                            </p>\\n                    </div>\\n                </div>\\n            </div>\\n        </li>\\n        <li>\\n            <div class=\"item\">\\n                <div class=\"pic\">\\n                    <em class=\"\">16</em>\\n                    <a href=\"https://movie.douban.com/subject/1889243/\">\\n                        <img width=\"100\" alt=\"星际穿越\" src=\"https://img3.doubanio.com/view/photo/s_ratio_poster/public/p2206088801.jpg\" class=\"\">\\n                    </a>\\n                </div>\\n                <div class=\"info\">\\n                    <div class=\"hd\">\\n                        <a href=\"https://movie.douban.com/subject/1889243/\" class=\"\">\\n                            <span class=\"title\">星际穿越</span>\\n                                    <span class=\"title\">&nbsp;/&nbsp;Interstellar</span>\\n                                <span class=\"other\">&nbsp;/&nbsp;星际启示录(港)  /  星际效应(台)</span>\\n                        </a>\\n\\n\\n                            <span class=\"playable\">[可播放]</span>\\n                    </div>\\n                    <div class=\"bd\">\\n                        <p class=\"\">\\n                            导演: 克里斯托弗·诺兰 Christopher Nolan&nbsp;&nbsp;&nbsp;主演: 马修·麦康纳 Matthew Mc...<br>\\n                            2014&nbsp;/&nbsp;美国 英国 加拿大 冰岛&nbsp;/&nbsp;剧情 科幻 冒险\\n                        </p>\\n\\n                        \\n                        <div class=\"star\">\\n                                <span class=\"rating45-t\"></span>\\n                                <span class=\"rating_num\" property=\"v:average\">9.3</span>\\n                                <span property=\"v:best\" content=\"10.0\"></span>\\n                                <span>1068256人评价</span>\\n                        </div>\\n\\n                            <p class=\"quote\">\\n                                <span class=\"inq\">爱是一种力量，让我们超越时空感知它的存在。</span>\\n                            </p>\\n                    </div>\\n                </div>\\n            </div>\\n        </li>\\n        <li>\\n            <div class=\"item\">\\n                <div class=\"pic\">\\n                    <em class=\"\">17</em>\\n                    <a href=\"https://movie.douban.com/subject/1292213/\">\\n                        <img width=\"100\" alt=\"大话西游之大圣娶亲\" src=\"https://img9.doubanio.com/view/photo/s_ratio_poster/public/p2455050536.jpg\" class=\"\">\\n                    </a>\\n                </div>\\n                <div class=\"info\">\\n                    <div class=\"hd\">\\n                        <a href=\"https://movie.douban.com/subject/1292213/\" class=\"\">\\n                            <span class=\"title\">大话西游之大圣娶亲</span>\\n                                    <span class=\"title\">&nbsp;/&nbsp;西遊記大結局之仙履奇緣</span>\\n                                <span class=\"other\">&nbsp;/&nbsp;西游记完结篇仙履奇缘  /  齐天大圣西游记</span>\\n                        </a>\\n\\n\\n                            <span class=\"playable\">[可播放]</span>\\n                    </div>\\n                    <div class=\"bd\">\\n                        <p class=\"\">\\n                            导演: 刘镇伟 Jeffrey Lau&nbsp;&nbsp;&nbsp;主演: 周星驰 Stephen Chow / 吴孟达 Man Tat Ng...<br>\\n                            1995&nbsp;/&nbsp;中国香港 中国大陆&nbsp;/&nbsp;喜剧 爱情 奇幻 古装\\n                        </p>\\n\\n                        \\n                        <div class=\"star\">\\n                                <span class=\"rating45-t\"></span>\\n                                <span class=\"rating_num\" property=\"v:average\">9.2</span>\\n                                <span property=\"v:best\" content=\"10.0\"></span>\\n                                <span>1046664人评价</span>\\n                        </div>\\n\\n                            <p class=\"quote\">\\n                                <span class=\"inq\">一生所爱。</span>\\n                            </p>\\n                    </div>\\n                </div>\\n            </div>\\n        </li>\\n        <li>\\n            <div class=\"item\">\\n                <div class=\"pic\">\\n                    <em class=\"\">18</em>\\n                    <a href=\"https://movie.douban.com/subject/5912992/\">\\n                        <img width=\"100\" alt=\"熔炉\" src=\"https://img9.doubanio.com/view/photo/s_ratio_poster/public/p1363250216.jpg\" class=\"\">\\n                    </a>\\n                </div>\\n                <div class=\"info\">\\n                    <div class=\"hd\">\\n                        <a href=\"https://movie.douban.com/subject/5912992/\" class=\"\">\\n                            <span class=\"title\">熔炉</span>\\n                                    <span class=\"title\">&nbsp;/&nbsp;도가니</span>\\n                                <span class=\"other\">&nbsp;/&nbsp;无声呐喊(港)  /  漩涡</span>\\n                        </a>\\n\\n\\n                    </div>\\n                    <div class=\"bd\">\\n                        <p class=\"\">\\n                            导演: 黄东赫 Dong-hyuk Hwang&nbsp;&nbsp;&nbsp;主演: 孔侑 Yoo Gong / 郑有美 Yu-mi Jung /...<br>\\n                            2011&nbsp;/&nbsp;韩国&nbsp;/&nbsp;剧情\\n                        </p>\\n\\n                        \\n                        <div class=\"star\">\\n                                <span class=\"rating45-t\"></span>\\n                                <span class=\"rating_num\" property=\"v:average\">9.3</span>\\n                                <span property=\"v:best\" content=\"10.0\"></span>\\n                                <span>643763人评价</span>\\n                        </div>\\n\\n                            <p class=\"quote\">\\n                                <span class=\"inq\">我们一路奋战不是为了改变世界，而是为了不让世界改变我们。</span>\\n                            </p>\\n                    </div>\\n                </div>\\n            </div>\\n        </li>\\n        <li>\\n            <div class=\"item\">\\n                <div class=\"pic\">\\n                    <em class=\"\">19</em>\\n                    <a href=\"https://movie.douban.com/subject/25662329/\">\\n                        <img width=\"100\" alt=\"疯狂动物城\" src=\"https://img1.doubanio.com/view/photo/s_ratio_poster/public/p2315672647.jpg\" class=\"\">\\n                    </a>\\n                </div>\\n                <div class=\"info\">\\n                    <div class=\"hd\">\\n                        <a href=\"https://movie.douban.com/subject/25662329/\" class=\"\">\\n                            <span class=\"title\">疯狂动物城</span>\\n                                    <span class=\"title\">&nbsp;/&nbsp;Zootopia</span>\\n                                <span class=\"other\">&nbsp;/&nbsp;优兽大都会(港)  /  动物方城市(台)</span>\\n                        </a>\\n\\n\\n                            <span class=\"playable\">[可播放]</span>\\n                    </div>\\n                    <div class=\"bd\">\\n                        <p class=\"\">\\n                            导演: 拜伦·霍华德 Byron Howard / 瑞奇·摩尔 Rich Moore&nbsp;&nbsp;&nbsp;主演: 金妮弗·...<br>\\n                            2016&nbsp;/&nbsp;美国&nbsp;/&nbsp;喜剧 动画 冒险\\n                        </p>\\n\\n                        \\n                        <div class=\"star\">\\n                                <span class=\"rating45-t\"></span>\\n                                <span class=\"rating_num\" property=\"v:average\">9.2</span>\\n                                <span property=\"v:best\" content=\"10.0\"></span>\\n                                <span>1246021人评价</span>\\n                        </div>\\n\\n                            <p class=\"quote\">\\n                                <span class=\"inq\">迪士尼给我们营造的乌托邦就是这样，永远善良勇敢，永远出乎意料。</span>\\n                            </p>\\n                    </div>\\n                </div>\\n            </div>\\n        </li>\\n        <li>\\n            <div class=\"item\">\\n                <div class=\"pic\">\\n                    <em class=\"\">20</em>\\n                    <a href=\"https://movie.douban.com/subject/1307914/\">\\n                        <img width=\"100\" alt=\"无间道\" src=\"https://img3.doubanio.com/view/photo/s_ratio_poster/public/p2564556863.jpg\" class=\"\">\\n                    </a>\\n                </div>\\n                <div class=\"info\">\\n                    <div class=\"hd\">\\n                        <a href=\"https://movie.douban.com/subject/1307914/\" class=\"\">\\n                            <span class=\"title\">无间道</span>\\n                                    <span class=\"title\">&nbsp;/&nbsp;無間道</span>\\n                                <span class=\"other\">&nbsp;/&nbsp;Infernal Affairs  /  Mou gaan dou</span>\\n                        </a>\\n\\n\\n                            <span class=\"playable\">[可播放]</span>\\n                    </div>\\n                    <div class=\"bd\">\\n                        <p class=\"\">\\n                            导演: 刘伟强 / 麦兆辉&nbsp;&nbsp;&nbsp;主演: 刘德华 / 梁朝伟 / 黄秋生<br>\\n                            2002&nbsp;/&nbsp;中国香港&nbsp;/&nbsp;剧情 犯罪 悬疑\\n                        </p>\\n\\n                        \\n                        <div class=\"star\">\\n                                <span class=\"rating45-t\"></span>\\n                                <span class=\"rating_num\" property=\"v:average\">9.2</span>\\n                                <span property=\"v:best\" content=\"10.0\"></span>\\n                                <span>852397人评价</span>\\n                        </div>\\n\\n                            <p class=\"quote\">\\n                                <span class=\"inq\">香港电影史上永不过时的杰作。</span>\\n                            </p>\\n                    </div>\\n                </div>\\n            </div>\\n        </li>\\n        <li>\\n            <div class=\"item\">\\n                <div class=\"pic\">\\n                    <em class=\"\">21</em>\\n                    <a href=\"https://movie.douban.com/subject/1291560/\">\\n                        <img width=\"100\" alt=\"龙猫\" src=\"https://img9.doubanio.com/view/photo/s_ratio_poster/public/p2540924496.jpg\" class=\"\">\\n                    </a>\\n                </div>\\n                <div class=\"info\">\\n                    <div class=\"hd\">\\n                        <a href=\"https://movie.douban.com/subject/1291560/\" class=\"\">\\n                            <span class=\"title\">龙猫</span>\\n                                    <span class=\"title\">&nbsp;/&nbsp;となりのトトロ</span>\\n                                <span class=\"other\">&nbsp;/&nbsp;邻居托托罗  /  邻家的豆豆龙</span>\\n                        </a>\\n\\n\\n                            <span class=\"playable\">[可播放]</span>\\n                    </div>\\n                    <div class=\"bd\">\\n                        <p class=\"\">\\n                            导演: 宫崎骏 Hayao Miyazaki&nbsp;&nbsp;&nbsp;主演: 日高法子 Noriko Hidaka / 坂本千夏 Ch...<br>\\n                            1988&nbsp;/&nbsp;日本&nbsp;/&nbsp;动画 奇幻 冒险\\n                        </p>\\n\\n                        \\n                        <div class=\"star\">\\n                                <span class=\"rating45-t\"></span>\\n                                <span class=\"rating_num\" property=\"v:average\">9.2</span>\\n                                <span property=\"v:best\" content=\"10.0\"></span>\\n                                <span>890145人评价</span>\\n                        </div>\\n\\n                            <p class=\"quote\">\\n                                <span class=\"inq\">人人心中都有个龙猫，童年就永远不会消失。</span>\\n                            </p>\\n                    </div>\\n                </div>\\n            </div>\\n        </li>\\n        <li>\\n            <div class=\"item\">\\n                <div class=\"pic\">\\n                    <em class=\"\">22</em>\\n                    <a href=\"https://movie.douban.com/subject/1291841/\">\\n                        <img width=\"100\" alt=\"教父\" src=\"https://img9.doubanio.com/view/photo/s_ratio_poster/public/p616779645.jpg\" class=\"\">\\n                    </a>\\n                </div>\\n                <div class=\"info\">\\n                    <div class=\"hd\">\\n                        <a href=\"https://movie.douban.com/subject/1291841/\" class=\"\">\\n                            <span class=\"title\">教父</span>\\n                                    <span class=\"title\">&nbsp;/&nbsp;The Godfather</span>\\n                                <span class=\"other\">&nbsp;/&nbsp;Mario Puzo&#39;s The Godfather</span>\\n                        </a>\\n\\n\\n                            <span class=\"playable\">[可播放]</span>\\n                    </div>\\n                    <div class=\"bd\">\\n                        <p class=\"\">\\n                            导演: 弗朗西斯·福特·科波拉 Francis Ford Coppola&nbsp;&nbsp;&nbsp;主演: 马龙·白兰度 M...<br>\\n                            1972&nbsp;/&nbsp;美国&nbsp;/&nbsp;剧情 犯罪\\n                        </p>\\n\\n                        \\n                        <div class=\"star\">\\n                                <span class=\"rating45-t\"></span>\\n                                <span class=\"rating_num\" property=\"v:average\">9.3</span>\\n                                <span property=\"v:best\" content=\"10.0\"></span>\\n                                <span>650523人评价</span>\\n                        </div>\\n\\n                            <p class=\"quote\">\\n                                <span class=\"inq\">千万不要记恨你的对手，这样会让你失去理智。</span>\\n                            </p>\\n                    </div>\\n                </div>\\n            </div>\\n        </li>\\n        <li>\\n            <div class=\"item\">\\n                <div class=\"pic\">\\n                    <em class=\"\">23</em>\\n                    <a href=\"https://movie.douban.com/subject/1849031/\">\\n                        <img width=\"100\" alt=\"当幸福来敲门\" src=\"https://img1.doubanio.com/view/photo/s_ratio_poster/public/p1312700628.jpg\" class=\"\">\\n                    </a>\\n                </div>\\n                <div class=\"info\">\\n                    <div class=\"hd\">\\n                        <a href=\"https://movie.douban.com/subject/1849031/\" class=\"\">\\n                            <span class=\"title\">当幸福来敲门</span>\\n                                    <span class=\"title\">&nbsp;/&nbsp;The Pursuit of Happyness</span>\\n                                <span class=\"other\">&nbsp;/&nbsp;寻找快乐的故事(港)  /  追求快乐</span>\\n                        </a>\\n\\n\\n                            <span class=\"playable\">[可播放]</span>\\n                    </div>\\n                    <div class=\"bd\">\\n                        <p class=\"\">\\n                            导演: 加布里尔·穆奇诺 Gabriele Muccino&nbsp;&nbsp;&nbsp;主演: 威尔·史密斯 Will Smith ...<br>\\n                            2006&nbsp;/&nbsp;美国&nbsp;/&nbsp;剧情 传记 家庭\\n                        </p>\\n\\n                        \\n                        <div class=\"star\">\\n                                <span class=\"rating45-t\"></span>\\n                                <span class=\"rating_num\" property=\"v:average\">9.1</span>\\n                                <span property=\"v:best\" content=\"10.0\"></span>\\n                                <span>1062927人评价</span>\\n                        </div>\\n\\n                            <p class=\"quote\">\\n                                <span class=\"inq\">平民励志片。 </span>\\n                            </p>\\n                    </div>\\n                </div>\\n            </div>\\n        </li>\\n        <li>\\n            <div class=\"item\">\\n                <div class=\"pic\">\\n                    <em class=\"\">24</em>\\n                    <a href=\"https://movie.douban.com/subject/3319755/\">\\n                        <img width=\"100\" alt=\"怦然心动\" src=\"https://img1.doubanio.com/view/photo/s_ratio_poster/public/p501177648.jpg\" class=\"\">\\n                    </a>\\n                </div>\\n                <div class=\"info\">\\n                    <div class=\"hd\">\\n                        <a href=\"https://movie.douban.com/subject/3319755/\" class=\"\">\\n                            <span class=\"title\">怦然心动</span>\\n                                    <span class=\"title\">&nbsp;/&nbsp;Flipped</span>\\n                                <span class=\"other\">&nbsp;/&nbsp;萌动青春  /  青春萌动</span>\\n                        </a>\\n\\n\\n                            <span class=\"playable\">[可播放]</span>\\n                    </div>\\n                    <div class=\"bd\">\\n                        <p class=\"\">\\n                            导演: 罗伯·莱纳 Rob Reiner&nbsp;&nbsp;&nbsp;主演: 玛德琳·卡罗尔 Madeline Carroll / 卡...<br>\\n                            2010&nbsp;/&nbsp;美国&nbsp;/&nbsp;剧情 喜剧 爱情\\n                        </p>\\n\\n                        \\n                        <div class=\"star\">\\n                                <span class=\"rating45-t\"></span>\\n                                <span class=\"rating_num\" property=\"v:average\">9.1</span>\\n                                <span property=\"v:best\" content=\"10.0\"></span>\\n                                <span>1232879人评价</span>\\n                        </div>\\n\\n                            <p class=\"quote\">\\n                                <span class=\"inq\">真正的幸福是来自内心深处。</span>\\n                            </p>\\n                    </div>\\n                </div>\\n            </div>\\n        </li>\\n        <li>\\n            <div class=\"item\">\\n                <div class=\"pic\">\\n                    <em class=\"\">25</em>\\n                    <a href=\"https://movie.douban.com/subject/6786002/\">\\n                        <img width=\"100\" alt=\"触不可及\" src=\"https://img9.doubanio.com/view/photo/s_ratio_poster/public/p1454261925.jpg\" class=\"\">\\n                    </a>\\n                </div>\\n                <div class=\"info\">\\n                    <div class=\"hd\">\\n                        <a href=\"https://movie.douban.com/subject/6786002/\" class=\"\">\\n                            <span class=\"title\">触不可及</span>\\n                                    <span class=\"title\">&nbsp;/&nbsp;Intouchables</span>\\n                                <span class=\"other\">&nbsp;/&nbsp;闪亮人生(港)  /  逆转人生(台)</span>\\n                        </a>\\n\\n\\n                    </div>\\n                    <div class=\"bd\">\\n                        <p class=\"\">\\n                            导演: 奥利维·那卡什 Olivier Nakache / 艾力克·托兰达 Eric Toledano&nbsp;&nbsp;&nbsp;主...<br>\\n                            2011&nbsp;/&nbsp;法国&nbsp;/&nbsp;剧情 喜剧\\n                        </p>\\n\\n                        \\n                        <div class=\"star\">\\n                                <span class=\"rating45-t\"></span>\\n                                <span class=\"rating_num\" property=\"v:average\">9.2</span>\\n                                <span property=\"v:best\" content=\"10.0\"></span>\\n                                <span>694537人评价</span>\\n                        </div>\\n\\n                            <p class=\"quote\">\\n                                <span class=\"inq\">满满温情的高雅喜剧。</span>\\n                            </p>\\n                    </div>\\n                </div>\\n            </div>\\n        </li>\\n</ol>\\n\\n\\n\\n    \\n    \\n    \\n\\n        <div class=\"paginator\">\\n        <span class=\"prev\">\\n            &lt;前页\\n        </span>\\n        \\n        \\n\\n                <span class=\"thispage\">1</span>\\n                \\n            <a href=\"?start=25&amp;filter=\" >2</a>\\n        \\n                \\n            <a href=\"?start=50&amp;filter=\" >3</a>\\n        \\n                \\n            <a href=\"?start=75&amp;filter=\" >4</a>\\n        \\n                \\n            <a href=\"?start=100&amp;filter=\" >5</a>\\n        \\n                \\n            <a href=\"?start=125&amp;filter=\" >6</a>\\n        \\n                \\n            <a href=\"?start=150&amp;filter=\" >7</a>\\n        \\n                \\n            <a href=\"?start=175&amp;filter=\" >8</a>\\n        \\n                \\n            <a href=\"?start=200&amp;filter=\" >9</a>\\n        \\n                \\n            <a href=\"?start=225&amp;filter=\" >10</a>\\n        \\n        <span class=\"next\">\\n            <link rel=\"next\" href=\"?start=25&amp;filter=\"/>\\n            <a href=\"?start=25&amp;filter=\" >后页&gt;</a>\\n        </span>\\n\\n            <span class=\"count\">(共250条)</span>\\n        </div>\\n\\n\\n\\n            </div>\\n            <div class=\"aside\">\\n                \\n<p class=\"pl\">\\n    豆瓣用户每天都在对“看过”的电影进行“很差”到“力荐”的评价，豆瓣根据每部影片看过的人数以及该影片所得的评价等综合数据，通过算法分析产生豆瓣电影 Top 250。\\n</p>\\n\\n<div id=\"dale_movie_top250_bottom_right\"></div>\\n\\n<!-- douban ad begin -->\\n\\n\\n\\n\\n\\n\\n<div class=\"mobile-app-entrance block5 app-movie\">\\n    <a class=\"entrance-link\" href=\"https://www.douban.com/doubanapp/frodo\">\\n        <div class=\"entrance-qrcode\">\\n            <img src=\"https://img3.doubanio.com/f/movie/a02f6ed325fc52e220f299d51e730c422e2bcd16/pics/movie/douban_app_ad/qrcode.png\" alt=\"扫码下载豆瓣 App\" width=\"80\" height=\"80\" />\\n        </div>\\n        <div class=\"entrance-info\">\\n            <span class=\"app-icon icon-movie\"></span>\\n            <span class=\"main-title\">豆瓣</span>\\n            <span class=\"sub-title\">让好电影来找你</span>\\n        </div>\\n    </a>\\n</div>\\n\\n<!-- douban ad end -->\\n\\n\\n            </div>\\n            <div class=\"extra\">\\n                \\n            </div>\\n        </div>\\n    </div>\\n\\n        \\n    <div id=\"footer\">\\n            <div class=\"footer-extra\"></div>\\n        \\n<span id=\"icp\" class=\"fleft gray-link\">\\n    &copy; 2005－2020 douban.com, all rights reserved 北京豆网科技有限公司\\n</span>\\n\\n<a href=\"https://www.douban.com/hnypt/variformcyst.py\" style=\"display: none;\"></a>\\n\\n<span class=\"fright\">\\n    <a href=\"https://www.douban.com/about\">关于豆瓣</a>\\n    · <a href=\"https://www.douban.com/jobs\">在豆瓣工作</a>\\n    · <a href=\"https://www.douban.com/about?topic=contactus\">联系我们</a>\\n    · <a href=\"https://www.douban.com/about/legal\">法律声明</a>\\n    \\n    · <a href=\"https://help.douban.com/?app=movie\" target=\"_blank\">帮助中心</a>\\n    · <a href=\"https://www.douban.com/doubanapp/\">移动应用</a>\\n    · <a href=\"https://www.douban.com/partner/\">豆瓣广告</a>\\n</span>\\n\\n    </div>\\n\\n    </div>\\n    <!-- COLLECTED JS -->\\n        \\n        \\n    <link rel=\"stylesheet\" type=\"text/css\" href=\"https://img3.doubanio.com/f/shire/8377b9498330a2e6f056d863987cc7a37eb4d486/css/ui/dialog.css\" />\\n    <link rel=\"stylesheet\" type=\"text/css\" href=\"https://img3.doubanio.com/f/movie/4aca95d66d37ec0712b3d19973b5d8feb75f2f05/css/movie/mod/reg_login_pop.css\" />\\n    <script type=\"text/javascript\" src=\"https://img3.doubanio.com/f/shire/77323ae72a612bba8b65f845491513ff3329b1bb/js/do.js\" data-cfg-autoload=\"false\"></script>\\n    <script type=\"text/javascript\" src=\"https://img3.doubanio.com/f/shire/383a6e43f2108dc69e3ff2681bc4dc6c72a5ffb0/js/ui/dialog.js\"></script>\\n    <script type=\"text/javascript\">\\n        var HTTPS_DB=\\'https://www.douban.com\\';\\nvar account_pop={open:function(o,e){e?referrer=\"?referrer=\"+encodeURIComponent(e):referrer=\"?referrer=\"+window.location.href;var n=\"\",i=\"\",t=448;n=\"用户登录\",i=\"https://accounts.douban.com/passport/login_popup?source=movie\";var r=document.location.protocol+\"//\"+document.location.hostname,a=dui.Dialog({width:340,title:n,height:t,cls:\"account_pop\",isHideTitle:!0,modal:!0,content:\"<iframe scrolling=\\'no\\' frameborder=\\'0\\' width=\\'340\\' height=\\'\"+t+\"\\' src=\\'\"+i+\"\\' name=\\'\"+r+\"\\'></iframe>\"},!0),c=a.node;if(c.undelegate(),c.delegate(\".dui-dialog-close\",\"click\",function(){var o=$(\"body\");o.find(\"#login_msk\").hide(),o.find(\".account_pop\").remove()}),$(window).width()<478){var d=\"\";\"reg\"===o?d=HTTPS_DB+\"/accounts/register\"+referrer:\"login\"===o&&(d=HTTPS_DB+\"/accounts/login\"+referrer),window.location.href=d}else a.open();$(window).bind(\"message\",function(o){\"https://accounts.douban.com\"===o.originalEvent.origin&&(c.find(\"iframe\").css(\"height\",o.originalEvent.data),c.height(o.originalEvent.data),a.update())})}};Douban&&Douban.init_show_login&&(Douban.init_show_login=function(o){var e=$(o);e.click(function(){var o=e.data(\"ref\")||\"\";return account_pop.open(\"login\",o),!1})}),Do(function(){$(\"body\").delegate(\".pop_register\",\"click\",function(o){o.preventDefault();var e=$(this).data(\"ref\")||\"\";return account_pop.open(\"reg\",e),!1}),$(\"body\").delegate(\".pop_login\",\"click\",function(o){o.preventDefault();var e=$(this).data(\"ref\")||\"\";return account_pop.open(\"login\",e),!1})});\\n    </script>\\n\\n    \\n    \\n\\n\\n\\n\\n    \\n<script type=\"text/javascript\">\\n    (function (global) {\\n        var newNode = global.document.createElement(\\'script\\'),\\n            existingNode = global.document.getElementsByTagName(\\'script\\')[0],\\n            adSource = \\'//erebor.douban.com/\\',\\n            userId = \\'\\',\\n            browserId = \\'gVt8yTkXaBg\\',\\n            criteria = \\'3:/top250\\',\\n            preview = \\'\\',\\n            debug = false,\\n            adSlots = [\\'dale_movie_top250_bottom_right\\'];\\n\\n        global.DoubanAdRequest = {src: adSource, uid: userId, bid: browserId, crtr: criteria, prv: preview, debug: debug};\\n        global.DoubanAdSlots = (global.DoubanAdSlots || []).concat(adSlots);\\n\\n        newNode.setAttribute(\\'type\\', \\'text/javascript\\');\\n        newNode.setAttribute(\\'src\\', \\'//img1.doubanio.com/eDRjYjNvdi9mL2FkanMvZTQ2YTNkMjgwYjBiMzc2OWE4YTI3MWFhMzI0NTQwMTBlMWY3OTYzMy9hZC5yZWxlYXNlLmpz\\');\\n        newNode.setAttribute(\\'async\\', true);\\n        existingNode.parentNode.insertBefore(newNode, existingNode);\\n    })(this);\\n</script>\\n\\n\\n\\n\\n\\n\\n\\n\\n\\n\\n\\n    \\n  \\n\\n\\n\\n\\n\\n\\n\\n\\n\\n<script type=\"text/javascript\">\\nvar _paq = _paq || [];\\n_paq.push([\\'trackPageView\\']);\\n_paq.push([\\'enableLinkTracking\\']);\\n(function() {\\n    var p=((\\'https:\\' == document.location.protocol) ? \\'https\\' : \\'http\\'), u=p+\\'://fundin.douban.com/\\';\\n    _paq.push([\\'setTrackerUrl\\', u+\\'piwik\\']);\\n    _paq.push([\\'setSiteId\\', \\'100001\\']);\\n    var d=document, g=d.createElement(\\'script\\'), s=d.getElementsByTagName(\\'script\\')[0];\\n    g.type=\\'text/javascript\\';\\n    g.defer=true;\\n    g.async=true;\\n    g.src=p+\\'://img3.doubanio.com/dae/fundin/piwik.js\\';\\n    s.parentNode.insertBefore(g,s);\\n})();\\n</script>\\n\\n<script type=\"text/javascript\">\\nvar setMethodWithNs = function(namespace) {\\n  var ns = namespace ? namespace + \\'.\\' : \\'\\'\\n    , fn = function(string) {\\n        if(!ns) {return string}\\n        return ns + string\\n      }\\n  return fn\\n}\\n\\nvar gaWithNamespace = function(fn, namespace) {\\n  var method = setMethodWithNs(namespace)\\n  fn.call(this, method)\\n}\\n\\nvar _gaq = _gaq || []\\n  , accounts = [\\n      { id: \\'UA-7019765-1\\', namespace: \\'douban\\' }\\n    , { id: \\'UA-7019765-19\\', namespace: \\'\\' }\\n    ]\\n  , gaInit = function(account) {\\n      gaWithNamespace(function(method) {\\n        gaInitFn.call(this, method, account)\\n      }, account.namespace)\\n    }\\n  , gaInitFn = function(method, account) {\\n      _gaq.push([method(\\'_setAccount\\'), account.id]);\\n      _gaq.push([method(\\'_setSampleRate\\'), \\'5\\']);\\n\\n      \\n  _gaq.push([method(\\'_addOrganic\\'), \\'google\\', \\'q\\'])\\n  _gaq.push([method(\\'_addOrganic\\'), \\'baidu\\', \\'wd\\'])\\n  _gaq.push([method(\\'_addOrganic\\'), \\'soso\\', \\'w\\'])\\n  _gaq.push([method(\\'_addOrganic\\'), \\'youdao\\', \\'q\\'])\\n  _gaq.push([method(\\'_addOrganic\\'), \\'so.360.cn\\', \\'q\\'])\\n  _gaq.push([method(\\'_addOrganic\\'), \\'sogou\\', \\'query\\'])\\n  if (account.namespace) {\\n    _gaq.push([method(\\'_addIgnoredOrganic\\'), \\'豆瓣\\'])\\n    _gaq.push([method(\\'_addIgnoredOrganic\\'), \\'douban\\'])\\n    _gaq.push([method(\\'_addIgnoredOrganic\\'), \\'豆瓣网\\'])\\n    _gaq.push([method(\\'_addIgnoredOrganic\\'), \\'www.douban.com\\'])\\n  }\\n\\n      if (account.namespace === \\'douban\\') {\\n        _gaq.push([method(\\'_setDomainName\\'), \\'.douban.com\\'])\\n      }\\n\\n        _gaq.push([method(\\'_setCustomVar\\'), 1, \\'responsive_view_mode\\', \\'desktop\\', 3])\\n\\n        _gaq.push([method(\\'_setCustomVar\\'), 2, \\'login_status\\', \\'0\\', 2]);\\n\\n      _gaq.push([method(\\'_trackPageview\\')])\\n    }\\n\\nfor(var i = 0, l = accounts.length; i < l; i++) {\\n  var account = accounts[i]\\n  gaInit(account)\\n}\\n\\n\\n;(function() {\\n    var ga = document.createElement(\\'script\\');\\n    ga.src = (\\'https:\\' == document.location.protocol ? \\'https://ssl\\' : \\'http://www\\') + \\'.google-analytics.com/ga.js\\';\\n    ga.setAttribute(\\'async\\', \\'true\\');\\n    document.documentElement.firstChild.appendChild(ga);\\n})()\\n</script>\\n\\n\\n\\n\\n\\n\\n\\n\\n      \\n    \\n\\n    <!-- dae-web-movie--default-6d9bbd9c45-p8h2s-->\\n\\n  <script>_SPLITTEST=\\'\\'</script>\\n</body>\\n\\n</html>\\n\\n\\n'"
      ]
     },
     "execution_count": 23,
     "metadata": {},
     "output_type": "execute_result"
    }
   ],
   "source": [
    "r.text"
   ]
  },
  {
   "cell_type": "markdown",
   "metadata": {},
   "source": [
    "构造URL参数\n",
    "一般来说，我们访问的网页分为两种，动态网址和静态网址，\n",
    "例如https://movie.douban.com/top250?start=0&filter=\n",
    "网址中包含问号之类的符号就是动态的，问号后面的就是当前网址的参数，参数是由key=value的形式构造的，各个参数之间由&符号进行连接，\n",
    "不同的参数控制了网页中的内容或者属性不同"
   ]
  },
  {
   "cell_type": "code",
   "execution_count": 28,
   "metadata": {},
   "outputs": [
    {
     "name": "stdout",
     "output_type": "stream",
     "text": [
      "https://movie.douban.com/top250?start=0&filter=\n"
     ]
    }
   ],
   "source": [
    "#使用参数传递\n",
    "url = 'https://movie.douban.com/top250'#前面传进来\n",
    "parm_data = {#后面构建\n",
    "    'start' : '0',\n",
    "    'filter': ''\n",
    "}\n",
    "r = requests.get(url,params=parm_data,headers=headers)#将参数依次给过来，(网址，参数，请求头)\n",
    "print(r.url)"
   ]
  },
  {
   "cell_type": "code",
   "execution_count": 31,
   "metadata": {
    "scrolled": true
   },
   "outputs": [
    {
     "name": "stdout",
     "output_type": "stream",
     "text": [
      "https://movie.douban.com/top250?start=0&filter=\n",
      "https://movie.douban.com/top250?start=25&filter=\n",
      "https://movie.douban.com/top250?start=50&filter=\n",
      "https://movie.douban.com/top250?start=75&filter=\n",
      "https://movie.douban.com/top250?start=100&filter=\n",
      "https://movie.douban.com/top250?start=125&filter=\n",
      "https://movie.douban.com/top250?start=150&filter=\n",
      "https://movie.douban.com/top250?start=175&filter=\n",
      "https://movie.douban.com/top250?start=200&filter=\n",
      "https://movie.douban.com/top250?start=225&filter=\n"
     ]
    }
   ],
   "source": [
    "#利用字符串方式构建参数，手动构建豆瓣top250的网址\n",
    " \n",
    "for i in range(10):\n",
    "    url = 'https://movie.douban.com/top250?start={}&filter='.format(i*25)\n",
    "    #注意这里start后面的参数0变成了一个字典，因为我们发现他这个网页每页是以25递增的\n",
    "    print(url)"
   ]
  },
  {
   "cell_type": "markdown",
   "metadata": {},
   "source": [
    "post方法\n",
    "  post请求大多在表单提交时发起，例如我们在登录一个网站的时候，需要输入用户名和密码，\n",
    "  用户名和密码为了不以参数的形式传递，一般就换一种传输方法。\n",
    "  我们要把输入的内容，作为表单传送过去，而不是URL中的参数\n",
    "  这个抓包在netwok里的XHR里面"
   ]
  },
  {
   "cell_type": "markdown",
   "metadata": {},
   "source": [
    "# 实战：使用python制作翻译软件（中/英）"
   ]
  },
  {
   "cell_type": "code",
   "execution_count": null,
   "metadata": {},
   "outputs": [],
   "source": [
    "http://fy.iciba.com/\n",
    "    编写函数，使用爬虫的方式完成网站的翻译功能"
   ]
  },
  {
   "cell_type": "markdown",
   "metadata": {},
   "source": [
    "翻译的接口:http://fy.iciba.com/ajax.php?a=fy\n",
    "可以通过f12之后network里的headers的reque url \n",
    "1. 发送给服务器的字段：\n",
    "  -  f:auto\n",
    "  -  t:auto\n",
    "  -  w:xxxxx"
   ]
  },
  {
   "cell_type": "code",
   "execution_count": 20,
   "metadata": {},
   "outputs": [
    {
     "data": {
      "text/plain": [
       "['n. 苹果;苹果树;苹果公司;']"
      ]
     },
     "execution_count": 20,
     "metadata": {},
     "output_type": "execute_result"
    }
   ],
   "source": [
    "#导入所需包\n",
    "import requests\n",
    "import json\n",
    "#定义一个函数\n",
    "\n",
    "#获取URL\n",
    "url = 'http://fy.iciba.com/ajax.php?a=fy'\n",
    "#添加请求头headers\n",
    "heaaders = {\n",
    " 'User-Agent': 'Mozilla/5.0 (Macintosh; Intel Mac OS X 10_14_6) AppleWebKit/537.36 (KHTML, like Gecko) Chrome/80.0.3987.163 Safari/537.36'  \n",
    "       }\n",
    "\n",
    "#键入要翻译的词\n",
    "word = 'apple'\n",
    "#构造表单\n",
    "post_data ={\n",
    "    'f': 'auto',\n",
    "    't': 'auto',\n",
    "    'w': word\n",
    "         }\n",
    "\n",
    "#发送请求\n",
    "r = requests.post(url,data=post_data)\n",
    "data = json.loads(r.text)\n",
    "result = data['content']['word_mean']\n",
    "result"
   ]
  },
  {
   "cell_type": "code",
   "execution_count": 16,
   "metadata": {},
   "outputs": [],
   "source": [
    "#r.text\n",
    "#type(r.text)#查看类型"
   ]
  },
  {
   "cell_type": "code",
   "execution_count": 17,
   "metadata": {},
   "outputs": [],
   "source": [
    "#利用json库解析成我们容易看明白的，当然r.json也可以\n",
    "#r.json()"
   ]
  },
  {
   "cell_type": "code",
   "execution_count": 18,
   "metadata": {},
   "outputs": [],
   "source": [
    "# #json库\n",
    "# data = json.loads(r.text)\n",
    "# data['content']['word_mean']"
   ]
  },
  {
   "cell_type": "code",
   "execution_count": 30,
   "metadata": {},
   "outputs": [],
   "source": [
    "#这里我们封装为函数\n",
    "def ciba_translate(word):\n",
    "    #获取URL\n",
    "    url = 'http://fy.iciba.com/ajax.php?a=fy'\n",
    "    #添加请求头headers\n",
    "    heaaders = {\n",
    "     'User-Agent': 'Mozilla/5.0 (Macintosh; Intel Mac OS X 10_14_6) AppleWebKit/537.36 (KHTML, like Gecko) Chrome/80.0.3987.163 Safari/537.36'  \n",
    "           }\n",
    "\n",
    "    #键入要翻译的词\n",
    "    #word = 'apple'\n",
    "    #构造表单\n",
    "    post_data ={\n",
    "        'f': 'auto',\n",
    "        't': 'auto',\n",
    "        'w': word\n",
    "             }\n",
    "\n",
    "    #发送请求\n",
    "    r = requests.post(url,data=post_data)\n",
    "    data = json.loads(r.text)\n",
    "    result = data['content']['word_mean']\n",
    "    return result"
   ]
  },
  {
   "cell_type": "code",
   "execution_count": 31,
   "metadata": {},
   "outputs": [
    {
     "data": {
      "text/plain": [
       "['n. 女孩;姑娘，未婚女子;女职员，女演员;（男人的）女朋友;']"
      ]
     },
     "execution_count": 31,
     "metadata": {},
     "output_type": "execute_result"
    }
   ],
   "source": [
    "ciba_translate('girl')"
   ]
  },
  {
   "cell_type": "code",
   "execution_count": 34,
   "metadata": {},
   "outputs": [],
   "source": [
    "#但是现在又一个问题就是我们现在仅仅可以翻译英文，为此我们需要加一个status判断，0为英文，1为中文\n",
    "def ciba_translate(word): # 获取url\n",
    "    url = 'http://fy.iciba.com/ajax.php?a=fy'\n",
    "    # 添加headers\n",
    "    headers = {\n",
    "        'User-Agent': 'Mozilla/5.0 (Macintosh; Intel Mac OS X 10_14_6) AppleWebKit/537.36 (KHTML, like Gecko) Chrome/80.0.3987.163 Safari/537.36'\n",
    "    }\n",
    "    # 构造表单 \n",
    "    post_data = {\n",
    "         'f': 'auto',\n",
    "         't': 'auto',\n",
    "         'w': word\n",
    "    }\n",
    "    # 发起请求\n",
    "    r = requests.post(url, data=post_data, headers=headers) # 解析为字典\n",
    "    data = json.loads(r.text)\n",
    "    # 条件判断\n",
    "    if data['status'] == 0:\n",
    "            result = data['content']['word_mean']\n",
    "    else:\n",
    "            result = data['content']['out']\n",
    "    return result"
   ]
  },
  {
   "cell_type": "code",
   "execution_count": 36,
   "metadata": {},
   "outputs": [
    {
     "data": {
      "text/plain": [
       "'hello'"
      ]
     },
     "execution_count": 36,
     "metadata": {},
     "output_type": "execute_result"
    }
   ],
   "source": [
    "ciba_translate('你好')"
   ]
  },
  {
   "cell_type": "code",
   "execution_count": null,
   "metadata": {},
   "outputs": [],
   "source": []
  }
 ],
 "metadata": {
  "kernelspec": {
   "display_name": "Python 3",
   "language": "python",
   "name": "python3"
  },
  "language_info": {
   "codemirror_mode": {
    "name": "ipython",
    "version": 3
   },
   "file_extension": ".py",
   "mimetype": "text/x-python",
   "name": "python",
   "nbconvert_exporter": "python",
   "pygments_lexer": "ipython3",
   "version": "3.7.6"
  }
 },
 "nbformat": 4,
 "nbformat_minor": 4
}
